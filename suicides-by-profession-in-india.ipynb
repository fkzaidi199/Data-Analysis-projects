{
 "cells": [
  {
   "cell_type": "markdown",
   "metadata": {},
   "source": [
    "# Unveiling the pattern of suicides: Exploring the data\n",
    "\n",
    "The project analyzes a dataset on suicides in India, focusing on the number of suicides per year categorized by profession, educational status, causes of suicides, means adopted and the social status. By examining this data, we aim to gain insights into the patterns and factors influencing suicide rates among different professional groups in India. This research can help identify vulnerable occupations and shed light on the underlying causes of suicide, providing valuable information for developing targeted prevention strategies and support systems.\n",
    "\n",
    "![Suicide cover](https://miro.medium.com/v2/resize:fit:786/format:webp/1*T_qB1b21n6iT9dE0a0ZgHg.png)\n",
    "\n",
    "### Dataset used\n",
    "Data is from Open govt data platform portal.\n",
    "\n",
    "https://data.gov.in/catalog/stateut-wise-educational-status-suicide-victim\n",
    "https://data.gov.in/catalog/stateut-wise-professional-profile-suicide-victim\n",
    "https://data.gov.in/catalog/stateut-wise-distribution-suicides-causes\n",
    "https://data.gov.in/catalog/stateut-wise-distribution-suicides-means-adopted\n",
    "https://data.gov.in/catalog/stateut-wise-social-status-suicide-victims\n",
    "\n",
    "Credits: [Rajanand llangovan](https://data.world/rajanand) has compiled and merged the data from all the sources cited above."
   ]
  },
  {
   "cell_type": "markdown",
   "metadata": {},
   "source": [
    "## Importing the dataset"
   ]
  },
  {
   "cell_type": "code",
   "execution_count": 1,
   "metadata": {},
   "outputs": [],
   "source": [
    "# Importing necessary libraries\n",
    "import numpy as np\n",
    "import pandas as pd\n",
    "\n",
    "import seaborn as sns\n",
    "import matplotlib\n",
    "import matplotlib.pyplot as plt\n",
    "%matplotlib inline\n",
    "\n",
    "sns.set_style('darkgrid')\n",
    "matplotlib.rcParams['font.size'] = 14\n",
    "matplotlib.rcParams['figure.figsize'] = (9, 5)\n",
    "matplotlib.rcParams['figure.facecolor'] = '#00000000'"
   ]
  },
  {
   "cell_type": "code",
   "execution_count": 2,
   "metadata": {},
   "outputs": [],
   "source": [
    "# I have already downloaded the dataset on my computer. Let' import it.\n",
    "suicides_df = pd.read_csv('Suicides_in_India.csv')"
   ]
  },
  {
   "cell_type": "code",
   "execution_count": 3,
   "metadata": {},
   "outputs": [
    {
     "data": {
      "text/html": [
       "<div>\n",
       "<style scoped>\n",
       "    .dataframe tbody tr th:only-of-type {\n",
       "        vertical-align: middle;\n",
       "    }\n",
       "\n",
       "    .dataframe tbody tr th {\n",
       "        vertical-align: top;\n",
       "    }\n",
       "\n",
       "    .dataframe thead th {\n",
       "        text-align: right;\n",
       "    }\n",
       "</style>\n",
       "<table border=\"1\" class=\"dataframe\">\n",
       "  <thead>\n",
       "    <tr style=\"text-align: right;\">\n",
       "      <th></th>\n",
       "      <th>index</th>\n",
       "      <th>State</th>\n",
       "      <th>Year</th>\n",
       "      <th>Type_code</th>\n",
       "      <th>Type</th>\n",
       "      <th>Gender</th>\n",
       "      <th>Age_group</th>\n",
       "      <th>Total</th>\n",
       "    </tr>\n",
       "  </thead>\n",
       "  <tbody>\n",
       "    <tr>\n",
       "      <th>0</th>\n",
       "      <td>0</td>\n",
       "      <td>A &amp; N ISLANDS</td>\n",
       "      <td>2001</td>\n",
       "      <td>Causes</td>\n",
       "      <td>Cancer</td>\n",
       "      <td>Male</td>\n",
       "      <td>15-29</td>\n",
       "      <td>0</td>\n",
       "    </tr>\n",
       "    <tr>\n",
       "      <th>1</th>\n",
       "      <td>1</td>\n",
       "      <td>A &amp; N ISLANDS</td>\n",
       "      <td>2001</td>\n",
       "      <td>Causes</td>\n",
       "      <td>Divorce</td>\n",
       "      <td>Male</td>\n",
       "      <td>60+</td>\n",
       "      <td>0</td>\n",
       "    </tr>\n",
       "    <tr>\n",
       "      <th>2</th>\n",
       "      <td>2</td>\n",
       "      <td>A &amp; N ISLANDS</td>\n",
       "      <td>2001</td>\n",
       "      <td>Causes</td>\n",
       "      <td>Dowry Dispute</td>\n",
       "      <td>Female</td>\n",
       "      <td>60+</td>\n",
       "      <td>0</td>\n",
       "    </tr>\n",
       "    <tr>\n",
       "      <th>3</th>\n",
       "      <td>3</td>\n",
       "      <td>A &amp; N ISLANDS</td>\n",
       "      <td>2001</td>\n",
       "      <td>Causes</td>\n",
       "      <td>Ideological Causes/Hero Worshipping</td>\n",
       "      <td>Female</td>\n",
       "      <td>60+</td>\n",
       "      <td>0</td>\n",
       "    </tr>\n",
       "    <tr>\n",
       "      <th>4</th>\n",
       "      <td>4</td>\n",
       "      <td>A &amp; N ISLANDS</td>\n",
       "      <td>2001</td>\n",
       "      <td>Causes</td>\n",
       "      <td>Illness (Aids/STD)</td>\n",
       "      <td>Female</td>\n",
       "      <td>0-14</td>\n",
       "      <td>0</td>\n",
       "    </tr>\n",
       "    <tr>\n",
       "      <th>...</th>\n",
       "      <td>...</td>\n",
       "      <td>...</td>\n",
       "      <td>...</td>\n",
       "      <td>...</td>\n",
       "      <td>...</td>\n",
       "      <td>...</td>\n",
       "      <td>...</td>\n",
       "      <td>...</td>\n",
       "    </tr>\n",
       "    <tr>\n",
       "      <th>237514</th>\n",
       "      <td>237514</td>\n",
       "      <td>WEST BENGAL</td>\n",
       "      <td>2012</td>\n",
       "      <td>Professional_Profile</td>\n",
       "      <td>Professional Activity</td>\n",
       "      <td>Male</td>\n",
       "      <td>60+</td>\n",
       "      <td>0</td>\n",
       "    </tr>\n",
       "    <tr>\n",
       "      <th>237515</th>\n",
       "      <td>237515</td>\n",
       "      <td>WEST BENGAL</td>\n",
       "      <td>2012</td>\n",
       "      <td>Professional_Profile</td>\n",
       "      <td>Self-employed (Business activity)</td>\n",
       "      <td>Male</td>\n",
       "      <td>0-14</td>\n",
       "      <td>0</td>\n",
       "    </tr>\n",
       "    <tr>\n",
       "      <th>237516</th>\n",
       "      <td>237516</td>\n",
       "      <td>WEST BENGAL</td>\n",
       "      <td>2012</td>\n",
       "      <td>Professional_Profile</td>\n",
       "      <td>Service (Government)</td>\n",
       "      <td>Male</td>\n",
       "      <td>15-29</td>\n",
       "      <td>0</td>\n",
       "    </tr>\n",
       "    <tr>\n",
       "      <th>237517</th>\n",
       "      <td>237517</td>\n",
       "      <td>WEST BENGAL</td>\n",
       "      <td>2012</td>\n",
       "      <td>Professional_Profile</td>\n",
       "      <td>Service (Government)</td>\n",
       "      <td>Male</td>\n",
       "      <td>60+</td>\n",
       "      <td>0</td>\n",
       "    </tr>\n",
       "    <tr>\n",
       "      <th>237518</th>\n",
       "      <td>237518</td>\n",
       "      <td>WEST BENGAL</td>\n",
       "      <td>2012</td>\n",
       "      <td>Social_Status</td>\n",
       "      <td>Never Married</td>\n",
       "      <td>Male</td>\n",
       "      <td>0-100+</td>\n",
       "      <td>2658</td>\n",
       "    </tr>\n",
       "  </tbody>\n",
       "</table>\n",
       "<p>237519 rows × 8 columns</p>\n",
       "</div>"
      ],
      "text/plain": [
       "         index          State  Year             Type_code  \\\n",
       "0            0  A & N ISLANDS  2001                Causes   \n",
       "1            1  A & N ISLANDS  2001                Causes   \n",
       "2            2  A & N ISLANDS  2001                Causes   \n",
       "3            3  A & N ISLANDS  2001                Causes   \n",
       "4            4  A & N ISLANDS  2001                Causes   \n",
       "...        ...            ...   ...                   ...   \n",
       "237514  237514    WEST BENGAL  2012  Professional_Profile   \n",
       "237515  237515    WEST BENGAL  2012  Professional_Profile   \n",
       "237516  237516    WEST BENGAL  2012  Professional_Profile   \n",
       "237517  237517    WEST BENGAL  2012  Professional_Profile   \n",
       "237518  237518    WEST BENGAL  2012         Social_Status   \n",
       "\n",
       "                                       Type  Gender Age_group  Total  \n",
       "0                                    Cancer    Male     15-29      0  \n",
       "1                                   Divorce    Male       60+      0  \n",
       "2                             Dowry Dispute  Female       60+      0  \n",
       "3       Ideological Causes/Hero Worshipping  Female       60+      0  \n",
       "4                        Illness (Aids/STD)  Female      0-14      0  \n",
       "...                                     ...     ...       ...    ...  \n",
       "237514                Professional Activity    Male       60+      0  \n",
       "237515    Self-employed (Business activity)    Male      0-14      0  \n",
       "237516                 Service (Government)    Male     15-29      0  \n",
       "237517                 Service (Government)    Male       60+      0  \n",
       "237518                        Never Married    Male    0-100+   2658  \n",
       "\n",
       "[237519 rows x 8 columns]"
      ]
     },
     "execution_count": 3,
     "metadata": {},
     "output_type": "execute_result"
    }
   ],
   "source": [
    "suicides_df"
   ]
  },
  {
   "cell_type": "markdown",
   "metadata": {},
   "source": [
    "## Data preparation and cleaning"
   ]
  },
  {
   "cell_type": "code",
   "execution_count": 4,
   "metadata": {},
   "outputs": [
    {
     "data": {
      "text/html": [
       "<div>\n",
       "<style scoped>\n",
       "    .dataframe tbody tr th:only-of-type {\n",
       "        vertical-align: middle;\n",
       "    }\n",
       "\n",
       "    .dataframe tbody tr th {\n",
       "        vertical-align: top;\n",
       "    }\n",
       "\n",
       "    .dataframe thead th {\n",
       "        text-align: right;\n",
       "    }\n",
       "</style>\n",
       "<table border=\"1\" class=\"dataframe\">\n",
       "  <thead>\n",
       "    <tr style=\"text-align: right;\">\n",
       "      <th></th>\n",
       "      <th>State</th>\n",
       "      <th>Year</th>\n",
       "      <th>Type_code</th>\n",
       "      <th>Type</th>\n",
       "      <th>Gender</th>\n",
       "      <th>Age_group</th>\n",
       "      <th>Total</th>\n",
       "    </tr>\n",
       "  </thead>\n",
       "  <tbody>\n",
       "    <tr>\n",
       "      <th>0</th>\n",
       "      <td>A &amp; N ISLANDS</td>\n",
       "      <td>2001</td>\n",
       "      <td>Causes</td>\n",
       "      <td>Cancer</td>\n",
       "      <td>Male</td>\n",
       "      <td>15-29</td>\n",
       "      <td>0</td>\n",
       "    </tr>\n",
       "    <tr>\n",
       "      <th>1</th>\n",
       "      <td>A &amp; N ISLANDS</td>\n",
       "      <td>2001</td>\n",
       "      <td>Causes</td>\n",
       "      <td>Divorce</td>\n",
       "      <td>Male</td>\n",
       "      <td>60+</td>\n",
       "      <td>0</td>\n",
       "    </tr>\n",
       "    <tr>\n",
       "      <th>2</th>\n",
       "      <td>A &amp; N ISLANDS</td>\n",
       "      <td>2001</td>\n",
       "      <td>Causes</td>\n",
       "      <td>Dowry Dispute</td>\n",
       "      <td>Female</td>\n",
       "      <td>60+</td>\n",
       "      <td>0</td>\n",
       "    </tr>\n",
       "    <tr>\n",
       "      <th>3</th>\n",
       "      <td>A &amp; N ISLANDS</td>\n",
       "      <td>2001</td>\n",
       "      <td>Causes</td>\n",
       "      <td>Ideological Causes/Hero Worshipping</td>\n",
       "      <td>Female</td>\n",
       "      <td>60+</td>\n",
       "      <td>0</td>\n",
       "    </tr>\n",
       "    <tr>\n",
       "      <th>4</th>\n",
       "      <td>A &amp; N ISLANDS</td>\n",
       "      <td>2001</td>\n",
       "      <td>Causes</td>\n",
       "      <td>Illness (Aids/STD)</td>\n",
       "      <td>Female</td>\n",
       "      <td>0-14</td>\n",
       "      <td>0</td>\n",
       "    </tr>\n",
       "    <tr>\n",
       "      <th>...</th>\n",
       "      <td>...</td>\n",
       "      <td>...</td>\n",
       "      <td>...</td>\n",
       "      <td>...</td>\n",
       "      <td>...</td>\n",
       "      <td>...</td>\n",
       "      <td>...</td>\n",
       "    </tr>\n",
       "    <tr>\n",
       "      <th>237514</th>\n",
       "      <td>WEST BENGAL</td>\n",
       "      <td>2012</td>\n",
       "      <td>Professional_Profile</td>\n",
       "      <td>Professional Activity</td>\n",
       "      <td>Male</td>\n",
       "      <td>60+</td>\n",
       "      <td>0</td>\n",
       "    </tr>\n",
       "    <tr>\n",
       "      <th>237515</th>\n",
       "      <td>WEST BENGAL</td>\n",
       "      <td>2012</td>\n",
       "      <td>Professional_Profile</td>\n",
       "      <td>Self-employed (Business activity)</td>\n",
       "      <td>Male</td>\n",
       "      <td>0-14</td>\n",
       "      <td>0</td>\n",
       "    </tr>\n",
       "    <tr>\n",
       "      <th>237516</th>\n",
       "      <td>WEST BENGAL</td>\n",
       "      <td>2012</td>\n",
       "      <td>Professional_Profile</td>\n",
       "      <td>Service (Government)</td>\n",
       "      <td>Male</td>\n",
       "      <td>15-29</td>\n",
       "      <td>0</td>\n",
       "    </tr>\n",
       "    <tr>\n",
       "      <th>237517</th>\n",
       "      <td>WEST BENGAL</td>\n",
       "      <td>2012</td>\n",
       "      <td>Professional_Profile</td>\n",
       "      <td>Service (Government)</td>\n",
       "      <td>Male</td>\n",
       "      <td>60+</td>\n",
       "      <td>0</td>\n",
       "    </tr>\n",
       "    <tr>\n",
       "      <th>237518</th>\n",
       "      <td>WEST BENGAL</td>\n",
       "      <td>2012</td>\n",
       "      <td>Social_Status</td>\n",
       "      <td>Never Married</td>\n",
       "      <td>Male</td>\n",
       "      <td>0-100+</td>\n",
       "      <td>2658</td>\n",
       "    </tr>\n",
       "  </tbody>\n",
       "</table>\n",
       "<p>237519 rows × 7 columns</p>\n",
       "</div>"
      ],
      "text/plain": [
       "                State  Year             Type_code  \\\n",
       "0       A & N ISLANDS  2001                Causes   \n",
       "1       A & N ISLANDS  2001                Causes   \n",
       "2       A & N ISLANDS  2001                Causes   \n",
       "3       A & N ISLANDS  2001                Causes   \n",
       "4       A & N ISLANDS  2001                Causes   \n",
       "...               ...   ...                   ...   \n",
       "237514    WEST BENGAL  2012  Professional_Profile   \n",
       "237515    WEST BENGAL  2012  Professional_Profile   \n",
       "237516    WEST BENGAL  2012  Professional_Profile   \n",
       "237517    WEST BENGAL  2012  Professional_Profile   \n",
       "237518    WEST BENGAL  2012         Social_Status   \n",
       "\n",
       "                                       Type  Gender Age_group  Total  \n",
       "0                                    Cancer    Male     15-29      0  \n",
       "1                                   Divorce    Male       60+      0  \n",
       "2                             Dowry Dispute  Female       60+      0  \n",
       "3       Ideological Causes/Hero Worshipping  Female       60+      0  \n",
       "4                        Illness (Aids/STD)  Female      0-14      0  \n",
       "...                                     ...     ...       ...    ...  \n",
       "237514                Professional Activity    Male       60+      0  \n",
       "237515    Self-employed (Business activity)    Male      0-14      0  \n",
       "237516                 Service (Government)    Male     15-29      0  \n",
       "237517                 Service (Government)    Male       60+      0  \n",
       "237518                        Never Married    Male    0-100+   2658  \n",
       "\n",
       "[237519 rows x 7 columns]"
      ]
     },
     "execution_count": 4,
     "metadata": {},
     "output_type": "execute_result"
    }
   ],
   "source": [
    "suicides_df = suicides_df.drop(columns = ['index'])\n",
    "suicides_df"
   ]
  },
  {
   "cell_type": "code",
   "execution_count": 5,
   "metadata": {},
   "outputs": [
    {
     "data": {
      "text/plain": [
       "(237519, 7)"
      ]
     },
     "execution_count": 5,
     "metadata": {},
     "output_type": "execute_result"
    }
   ],
   "source": [
    "suicides_df.shape"
   ]
  },
  {
   "cell_type": "code",
   "execution_count": 6,
   "metadata": {},
   "outputs": [
    {
     "data": {
      "text/plain": [
       "<bound method NDFrame.describe of                 State  Year             Type_code  \\\n",
       "0       A & N ISLANDS  2001                Causes   \n",
       "1       A & N ISLANDS  2001                Causes   \n",
       "2       A & N ISLANDS  2001                Causes   \n",
       "3       A & N ISLANDS  2001                Causes   \n",
       "4       A & N ISLANDS  2001                Causes   \n",
       "...               ...   ...                   ...   \n",
       "237514    WEST BENGAL  2012  Professional_Profile   \n",
       "237515    WEST BENGAL  2012  Professional_Profile   \n",
       "237516    WEST BENGAL  2012  Professional_Profile   \n",
       "237517    WEST BENGAL  2012  Professional_Profile   \n",
       "237518    WEST BENGAL  2012         Social_Status   \n",
       "\n",
       "                                       Type  Gender Age_group  Total  \n",
       "0                                    Cancer    Male     15-29      0  \n",
       "1                                   Divorce    Male       60+      0  \n",
       "2                             Dowry Dispute  Female       60+      0  \n",
       "3       Ideological Causes/Hero Worshipping  Female       60+      0  \n",
       "4                        Illness (Aids/STD)  Female      0-14      0  \n",
       "...                                     ...     ...       ...    ...  \n",
       "237514                Professional Activity    Male       60+      0  \n",
       "237515    Self-employed (Business activity)    Male      0-14      0  \n",
       "237516                 Service (Government)    Male     15-29      0  \n",
       "237517                 Service (Government)    Male       60+      0  \n",
       "237518                        Never Married    Male    0-100+   2658  \n",
       "\n",
       "[237519 rows x 7 columns]>"
      ]
     },
     "execution_count": 6,
     "metadata": {},
     "output_type": "execute_result"
    }
   ],
   "source": [
    "suicides_df.describe"
   ]
  },
  {
   "cell_type": "code",
   "execution_count": 7,
   "metadata": {},
   "outputs": [
    {
     "data": {
      "text/plain": [
       "array(['Causes', 'Means_adopted', 'Professional_Profile',\n",
       "       'Education_Status', 'Social_Status'], dtype=object)"
      ]
     },
     "execution_count": 7,
     "metadata": {},
     "output_type": "execute_result"
    }
   ],
   "source": [
    "suicides_df['Type_code'].unique()"
   ]
  },
  {
   "cell_type": "markdown",
   "metadata": {},
   "source": [
    "As we can see, there are 237519 rows in the dataset. Also, the `Type_code` column contains information according to 5 different criteria, namely `Causes`, `Means adopted`, `Social Status`, `Professional profile`, and `Educational Status`. We can create 5 different datasets for each type. Since the analysis for each type needs to be done seperately, it is a better idea to create different dataframes to avoid confusion and make the analysis easier."
   ]
  },
  {
   "cell_type": "code",
   "execution_count": 8,
   "metadata": {},
   "outputs": [],
   "source": [
    "# Creating dataframes by `Type_code`\n",
    "suicide_cause_df = suicides_df[suicides_df.Type_code == 'Causes']\n",
    "suicide_means_df = suicides_df[suicides_df.Type_code == 'Means_adopted']\n",
    "suicide_profession_df = suicides_df[suicides_df.Type_code == 'Professional_Profile']\n",
    "suicide_education_df = suicides_df[suicides_df.Type_code == 'Education_Status']\n",
    "suicide_social_df = suicides_df[suicides_df.Type_code == 'Social_Status']"
   ]
  },
  {
   "cell_type": "code",
   "execution_count": 9,
   "metadata": {},
   "outputs": [
    {
     "data": {
      "text/html": [
       "<div>\n",
       "<style scoped>\n",
       "    .dataframe tbody tr th:only-of-type {\n",
       "        vertical-align: middle;\n",
       "    }\n",
       "\n",
       "    .dataframe tbody tr th {\n",
       "        vertical-align: top;\n",
       "    }\n",
       "\n",
       "    .dataframe thead th {\n",
       "        text-align: right;\n",
       "    }\n",
       "</style>\n",
       "<table border=\"1\" class=\"dataframe\">\n",
       "  <thead>\n",
       "    <tr style=\"text-align: right;\">\n",
       "      <th></th>\n",
       "      <th>State</th>\n",
       "      <th>Year</th>\n",
       "      <th>Type_code</th>\n",
       "      <th>Type</th>\n",
       "      <th>Gender</th>\n",
       "      <th>Age_group</th>\n",
       "      <th>Total</th>\n",
       "    </tr>\n",
       "  </thead>\n",
       "  <tbody>\n",
       "    <tr>\n",
       "      <th>0</th>\n",
       "      <td>A &amp; N ISLANDS</td>\n",
       "      <td>2001</td>\n",
       "      <td>Causes</td>\n",
       "      <td>Cancer</td>\n",
       "      <td>Male</td>\n",
       "      <td>15-29</td>\n",
       "      <td>0</td>\n",
       "    </tr>\n",
       "    <tr>\n",
       "      <th>1</th>\n",
       "      <td>A &amp; N ISLANDS</td>\n",
       "      <td>2001</td>\n",
       "      <td>Causes</td>\n",
       "      <td>Divorce</td>\n",
       "      <td>Male</td>\n",
       "      <td>60+</td>\n",
       "      <td>0</td>\n",
       "    </tr>\n",
       "    <tr>\n",
       "      <th>2</th>\n",
       "      <td>A &amp; N ISLANDS</td>\n",
       "      <td>2001</td>\n",
       "      <td>Causes</td>\n",
       "      <td>Dowry Dispute</td>\n",
       "      <td>Female</td>\n",
       "      <td>60+</td>\n",
       "      <td>0</td>\n",
       "    </tr>\n",
       "    <tr>\n",
       "      <th>3</th>\n",
       "      <td>A &amp; N ISLANDS</td>\n",
       "      <td>2001</td>\n",
       "      <td>Causes</td>\n",
       "      <td>Ideological Causes/Hero Worshipping</td>\n",
       "      <td>Female</td>\n",
       "      <td>60+</td>\n",
       "      <td>0</td>\n",
       "    </tr>\n",
       "    <tr>\n",
       "      <th>4</th>\n",
       "      <td>A &amp; N ISLANDS</td>\n",
       "      <td>2001</td>\n",
       "      <td>Causes</td>\n",
       "      <td>Illness (Aids/STD)</td>\n",
       "      <td>Female</td>\n",
       "      <td>0-14</td>\n",
       "      <td>0</td>\n",
       "    </tr>\n",
       "    <tr>\n",
       "      <th>...</th>\n",
       "      <td>...</td>\n",
       "      <td>...</td>\n",
       "      <td>...</td>\n",
       "      <td>...</td>\n",
       "      <td>...</td>\n",
       "      <td>...</td>\n",
       "      <td>...</td>\n",
       "    </tr>\n",
       "    <tr>\n",
       "      <th>237497</th>\n",
       "      <td>WEST BENGAL</td>\n",
       "      <td>2011</td>\n",
       "      <td>Causes</td>\n",
       "      <td>Physical Abuse (Rape/Incest Etc.)</td>\n",
       "      <td>Female</td>\n",
       "      <td>45-59</td>\n",
       "      <td>0</td>\n",
       "    </tr>\n",
       "    <tr>\n",
       "      <th>237498</th>\n",
       "      <td>WEST BENGAL</td>\n",
       "      <td>2011</td>\n",
       "      <td>Causes</td>\n",
       "      <td>Unemployment</td>\n",
       "      <td>Male</td>\n",
       "      <td>15-29</td>\n",
       "      <td>139</td>\n",
       "    </tr>\n",
       "    <tr>\n",
       "      <th>237507</th>\n",
       "      <td>WEST BENGAL</td>\n",
       "      <td>2012</td>\n",
       "      <td>Causes</td>\n",
       "      <td>Fall in Social Reputation</td>\n",
       "      <td>Female</td>\n",
       "      <td>0-14</td>\n",
       "      <td>0</td>\n",
       "    </tr>\n",
       "    <tr>\n",
       "      <th>237508</th>\n",
       "      <td>WEST BENGAL</td>\n",
       "      <td>2012</td>\n",
       "      <td>Causes</td>\n",
       "      <td>Fall in Social Reputation</td>\n",
       "      <td>Male</td>\n",
       "      <td>45-59</td>\n",
       "      <td>0</td>\n",
       "    </tr>\n",
       "    <tr>\n",
       "      <th>237509</th>\n",
       "      <td>WEST BENGAL</td>\n",
       "      <td>2012</td>\n",
       "      <td>Causes</td>\n",
       "      <td>Insanity/Mental Illness</td>\n",
       "      <td>Male</td>\n",
       "      <td>0-14</td>\n",
       "      <td>0</td>\n",
       "    </tr>\n",
       "  </tbody>\n",
       "</table>\n",
       "<p>109200 rows × 7 columns</p>\n",
       "</div>"
      ],
      "text/plain": [
       "                State  Year Type_code                                 Type  \\\n",
       "0       A & N ISLANDS  2001    Causes                               Cancer   \n",
       "1       A & N ISLANDS  2001    Causes                              Divorce   \n",
       "2       A & N ISLANDS  2001    Causes                        Dowry Dispute   \n",
       "3       A & N ISLANDS  2001    Causes  Ideological Causes/Hero Worshipping   \n",
       "4       A & N ISLANDS  2001    Causes                   Illness (Aids/STD)   \n",
       "...               ...   ...       ...                                  ...   \n",
       "237497    WEST BENGAL  2011    Causes    Physical Abuse (Rape/Incest Etc.)   \n",
       "237498    WEST BENGAL  2011    Causes                         Unemployment   \n",
       "237507    WEST BENGAL  2012    Causes            Fall in Social Reputation   \n",
       "237508    WEST BENGAL  2012    Causes            Fall in Social Reputation   \n",
       "237509    WEST BENGAL  2012    Causes              Insanity/Mental Illness   \n",
       "\n",
       "        Gender Age_group  Total  \n",
       "0         Male     15-29      0  \n",
       "1         Male       60+      0  \n",
       "2       Female       60+      0  \n",
       "3       Female       60+      0  \n",
       "4       Female      0-14      0  \n",
       "...        ...       ...    ...  \n",
       "237497  Female     45-59      0  \n",
       "237498    Male     15-29    139  \n",
       "237507  Female      0-14      0  \n",
       "237508    Male     45-59      0  \n",
       "237509    Male      0-14      0  \n",
       "\n",
       "[109200 rows x 7 columns]"
      ]
     },
     "execution_count": 9,
     "metadata": {},
     "output_type": "execute_result"
    }
   ],
   "source": [
    "suicide_cause_df"
   ]
  },
  {
   "cell_type": "code",
   "execution_count": 10,
   "metadata": {},
   "outputs": [
    {
     "data": {
      "text/html": [
       "<div>\n",
       "<style scoped>\n",
       "    .dataframe tbody tr th:only-of-type {\n",
       "        vertical-align: middle;\n",
       "    }\n",
       "\n",
       "    .dataframe tbody tr th {\n",
       "        vertical-align: top;\n",
       "    }\n",
       "\n",
       "    .dataframe thead th {\n",
       "        text-align: right;\n",
       "    }\n",
       "</style>\n",
       "<table border=\"1\" class=\"dataframe\">\n",
       "  <thead>\n",
       "    <tr style=\"text-align: right;\">\n",
       "      <th></th>\n",
       "      <th>State</th>\n",
       "      <th>Year</th>\n",
       "      <th>Type_code</th>\n",
       "      <th>Type</th>\n",
       "      <th>Gender</th>\n",
       "      <th>Age_group</th>\n",
       "      <th>Total</th>\n",
       "    </tr>\n",
       "  </thead>\n",
       "  <tbody>\n",
       "    <tr>\n",
       "      <th>70</th>\n",
       "      <td>A &amp; N ISLANDS</td>\n",
       "      <td>2004</td>\n",
       "      <td>Education_Status</td>\n",
       "      <td>Hr. Secondary/Intermediate/Pre-Universit</td>\n",
       "      <td>Female</td>\n",
       "      <td>0-100+</td>\n",
       "      <td>5</td>\n",
       "    </tr>\n",
       "    <tr>\n",
       "      <th>196</th>\n",
       "      <td>A &amp; N ISLANDS</td>\n",
       "      <td>2003</td>\n",
       "      <td>Education_Status</td>\n",
       "      <td>Hr. Secondary/Intermediate/Pre-Universit</td>\n",
       "      <td>Male</td>\n",
       "      <td>0-100+</td>\n",
       "      <td>4</td>\n",
       "    </tr>\n",
       "    <tr>\n",
       "      <th>197</th>\n",
       "      <td>A &amp; N ISLANDS</td>\n",
       "      <td>2003</td>\n",
       "      <td>Education_Status</td>\n",
       "      <td>Middle</td>\n",
       "      <td>Male</td>\n",
       "      <td>0-100+</td>\n",
       "      <td>42</td>\n",
       "    </tr>\n",
       "    <tr>\n",
       "      <th>209</th>\n",
       "      <td>A &amp; N ISLANDS</td>\n",
       "      <td>2004</td>\n",
       "      <td>Education_Status</td>\n",
       "      <td>Hr. Secondary/Intermediate/Pre-Universit</td>\n",
       "      <td>Male</td>\n",
       "      <td>0-100+</td>\n",
       "      <td>9</td>\n",
       "    </tr>\n",
       "    <tr>\n",
       "      <th>224</th>\n",
       "      <td>A &amp; N ISLANDS</td>\n",
       "      <td>2005</td>\n",
       "      <td>Education_Status</td>\n",
       "      <td>Middle</td>\n",
       "      <td>Male</td>\n",
       "      <td>0-100+</td>\n",
       "      <td>37</td>\n",
       "    </tr>\n",
       "    <tr>\n",
       "      <th>...</th>\n",
       "      <td>...</td>\n",
       "      <td>...</td>\n",
       "      <td>...</td>\n",
       "      <td>...</td>\n",
       "      <td>...</td>\n",
       "      <td>...</td>\n",
       "      <td>...</td>\n",
       "    </tr>\n",
       "    <tr>\n",
       "      <th>237266</th>\n",
       "      <td>UTTARAKHAND</td>\n",
       "      <td>2011</td>\n",
       "      <td>Education_Status</td>\n",
       "      <td>Hr. Secondary/Intermediate/Pre-Universit</td>\n",
       "      <td>Female</td>\n",
       "      <td>0-100+</td>\n",
       "      <td>16</td>\n",
       "    </tr>\n",
       "    <tr>\n",
       "      <th>237267</th>\n",
       "      <td>UTTARAKHAND</td>\n",
       "      <td>2011</td>\n",
       "      <td>Education_Status</td>\n",
       "      <td>Post Graduate and Above</td>\n",
       "      <td>Male</td>\n",
       "      <td>0-100+</td>\n",
       "      <td>4</td>\n",
       "    </tr>\n",
       "    <tr>\n",
       "      <th>237285</th>\n",
       "      <td>UTTARAKHAND</td>\n",
       "      <td>2012</td>\n",
       "      <td>Education_Status</td>\n",
       "      <td>Post Graduate and Above</td>\n",
       "      <td>Male</td>\n",
       "      <td>0-100+</td>\n",
       "      <td>0</td>\n",
       "    </tr>\n",
       "    <tr>\n",
       "      <th>237367</th>\n",
       "      <td>WEST BENGAL</td>\n",
       "      <td>2004</td>\n",
       "      <td>Education_Status</td>\n",
       "      <td>Hr. Secondary/Intermediate/Pre-Universit</td>\n",
       "      <td>Male</td>\n",
       "      <td>0-100+</td>\n",
       "      <td>873</td>\n",
       "    </tr>\n",
       "    <tr>\n",
       "      <th>237368</th>\n",
       "      <td>WEST BENGAL</td>\n",
       "      <td>2004</td>\n",
       "      <td>Education_Status</td>\n",
       "      <td>Matriculate/Secondary</td>\n",
       "      <td>Male</td>\n",
       "      <td>0-100+</td>\n",
       "      <td>1130</td>\n",
       "    </tr>\n",
       "  </tbody>\n",
       "</table>\n",
       "<p>7296 rows × 7 columns</p>\n",
       "</div>"
      ],
      "text/plain": [
       "                State  Year         Type_code  \\\n",
       "70      A & N ISLANDS  2004  Education_Status   \n",
       "196     A & N ISLANDS  2003  Education_Status   \n",
       "197     A & N ISLANDS  2003  Education_Status   \n",
       "209     A & N ISLANDS  2004  Education_Status   \n",
       "224     A & N ISLANDS  2005  Education_Status   \n",
       "...               ...   ...               ...   \n",
       "237266    UTTARAKHAND  2011  Education_Status   \n",
       "237267    UTTARAKHAND  2011  Education_Status   \n",
       "237285    UTTARAKHAND  2012  Education_Status   \n",
       "237367    WEST BENGAL  2004  Education_Status   \n",
       "237368    WEST BENGAL  2004  Education_Status   \n",
       "\n",
       "                                            Type  Gender Age_group  Total  \n",
       "70      Hr. Secondary/Intermediate/Pre-Universit  Female    0-100+      5  \n",
       "196     Hr. Secondary/Intermediate/Pre-Universit    Male    0-100+      4  \n",
       "197                                       Middle    Male    0-100+     42  \n",
       "209     Hr. Secondary/Intermediate/Pre-Universit    Male    0-100+      9  \n",
       "224                                       Middle    Male    0-100+     37  \n",
       "...                                          ...     ...       ...    ...  \n",
       "237266  Hr. Secondary/Intermediate/Pre-Universit  Female    0-100+     16  \n",
       "237267                   Post Graduate and Above    Male    0-100+      4  \n",
       "237285                   Post Graduate and Above    Male    0-100+      0  \n",
       "237367  Hr. Secondary/Intermediate/Pre-Universit    Male    0-100+    873  \n",
       "237368                     Matriculate/Secondary    Male    0-100+   1130  \n",
       "\n",
       "[7296 rows x 7 columns]"
      ]
     },
     "execution_count": 10,
     "metadata": {},
     "output_type": "execute_result"
    }
   ],
   "source": [
    "suicide_education_df"
   ]
  },
  {
   "cell_type": "code",
   "execution_count": 11,
   "metadata": {},
   "outputs": [
    {
     "data": {
      "text/html": [
       "<div>\n",
       "<style scoped>\n",
       "    .dataframe tbody tr th:only-of-type {\n",
       "        vertical-align: middle;\n",
       "    }\n",
       "\n",
       "    .dataframe tbody tr th {\n",
       "        vertical-align: top;\n",
       "    }\n",
       "\n",
       "    .dataframe thead th {\n",
       "        text-align: right;\n",
       "    }\n",
       "</style>\n",
       "<table border=\"1\" class=\"dataframe\">\n",
       "  <thead>\n",
       "    <tr style=\"text-align: right;\">\n",
       "      <th></th>\n",
       "      <th>State</th>\n",
       "      <th>Year</th>\n",
       "      <th>Type_code</th>\n",
       "      <th>Type</th>\n",
       "      <th>Gender</th>\n",
       "      <th>Age_group</th>\n",
       "      <th>Total</th>\n",
       "    </tr>\n",
       "  </thead>\n",
       "  <tbody>\n",
       "    <tr>\n",
       "      <th>8</th>\n",
       "      <td>A &amp; N ISLANDS</td>\n",
       "      <td>2001</td>\n",
       "      <td>Means_adopted</td>\n",
       "      <td>By Consuming Insecticides</td>\n",
       "      <td>Female</td>\n",
       "      <td>0-14</td>\n",
       "      <td>0</td>\n",
       "    </tr>\n",
       "    <tr>\n",
       "      <th>9</th>\n",
       "      <td>A &amp; N ISLANDS</td>\n",
       "      <td>2001</td>\n",
       "      <td>Means_adopted</td>\n",
       "      <td>By Fire/Self Immolation</td>\n",
       "      <td>Female</td>\n",
       "      <td>30-44</td>\n",
       "      <td>1</td>\n",
       "    </tr>\n",
       "    <tr>\n",
       "      <th>10</th>\n",
       "      <td>A &amp; N ISLANDS</td>\n",
       "      <td>2001</td>\n",
       "      <td>Means_adopted</td>\n",
       "      <td>By Hanging</td>\n",
       "      <td>Female</td>\n",
       "      <td>45-59</td>\n",
       "      <td>4</td>\n",
       "    </tr>\n",
       "    <tr>\n",
       "      <th>11</th>\n",
       "      <td>A &amp; N ISLANDS</td>\n",
       "      <td>2001</td>\n",
       "      <td>Means_adopted</td>\n",
       "      <td>By Machine</td>\n",
       "      <td>Male</td>\n",
       "      <td>60+</td>\n",
       "      <td>0</td>\n",
       "    </tr>\n",
       "    <tr>\n",
       "      <th>12</th>\n",
       "      <td>A &amp; N ISLANDS</td>\n",
       "      <td>2001</td>\n",
       "      <td>Means_adopted</td>\n",
       "      <td>By Other means (please specify)</td>\n",
       "      <td>Female</td>\n",
       "      <td>30-44</td>\n",
       "      <td>0</td>\n",
       "    </tr>\n",
       "    <tr>\n",
       "      <th>...</th>\n",
       "      <td>...</td>\n",
       "      <td>...</td>\n",
       "      <td>...</td>\n",
       "      <td>...</td>\n",
       "      <td>...</td>\n",
       "      <td>...</td>\n",
       "      <td>...</td>\n",
       "    </tr>\n",
       "    <tr>\n",
       "      <th>237499</th>\n",
       "      <td>WEST BENGAL</td>\n",
       "      <td>2011</td>\n",
       "      <td>Means_adopted</td>\n",
       "      <td>By Fire/Self Immolation</td>\n",
       "      <td>Female</td>\n",
       "      <td>30-44</td>\n",
       "      <td>84</td>\n",
       "    </tr>\n",
       "    <tr>\n",
       "      <th>237500</th>\n",
       "      <td>WEST BENGAL</td>\n",
       "      <td>2011</td>\n",
       "      <td>Means_adopted</td>\n",
       "      <td>By Jumping off Moving Vehicles/Trains</td>\n",
       "      <td>Male</td>\n",
       "      <td>15-29</td>\n",
       "      <td>14</td>\n",
       "    </tr>\n",
       "    <tr>\n",
       "      <th>237510</th>\n",
       "      <td>WEST BENGAL</td>\n",
       "      <td>2012</td>\n",
       "      <td>Means_adopted</td>\n",
       "      <td>By coming under running vehicles/trains</td>\n",
       "      <td>Male</td>\n",
       "      <td>0-14</td>\n",
       "      <td>1</td>\n",
       "    </tr>\n",
       "    <tr>\n",
       "      <th>237511</th>\n",
       "      <td>WEST BENGAL</td>\n",
       "      <td>2012</td>\n",
       "      <td>Means_adopted</td>\n",
       "      <td>By touching electric wires</td>\n",
       "      <td>Female</td>\n",
       "      <td>0-14</td>\n",
       "      <td>0</td>\n",
       "    </tr>\n",
       "    <tr>\n",
       "      <th>237512</th>\n",
       "      <td>WEST BENGAL</td>\n",
       "      <td>2012</td>\n",
       "      <td>Means_adopted</td>\n",
       "      <td>By touching electric wires</td>\n",
       "      <td>Male</td>\n",
       "      <td>45-59</td>\n",
       "      <td>0</td>\n",
       "    </tr>\n",
       "  </tbody>\n",
       "</table>\n",
       "<p>67200 rows × 7 columns</p>\n",
       "</div>"
      ],
      "text/plain": [
       "                State  Year      Type_code  \\\n",
       "8       A & N ISLANDS  2001  Means_adopted   \n",
       "9       A & N ISLANDS  2001  Means_adopted   \n",
       "10      A & N ISLANDS  2001  Means_adopted   \n",
       "11      A & N ISLANDS  2001  Means_adopted   \n",
       "12      A & N ISLANDS  2001  Means_adopted   \n",
       "...               ...   ...            ...   \n",
       "237499    WEST BENGAL  2011  Means_adopted   \n",
       "237500    WEST BENGAL  2011  Means_adopted   \n",
       "237510    WEST BENGAL  2012  Means_adopted   \n",
       "237511    WEST BENGAL  2012  Means_adopted   \n",
       "237512    WEST BENGAL  2012  Means_adopted   \n",
       "\n",
       "                                           Type  Gender Age_group  Total  \n",
       "8                     By Consuming Insecticides  Female      0-14      0  \n",
       "9                       By Fire/Self Immolation  Female     30-44      1  \n",
       "10                                   By Hanging  Female     45-59      4  \n",
       "11                                   By Machine    Male       60+      0  \n",
       "12              By Other means (please specify)  Female     30-44      0  \n",
       "...                                         ...     ...       ...    ...  \n",
       "237499                  By Fire/Self Immolation  Female     30-44     84  \n",
       "237500    By Jumping off Moving Vehicles/Trains    Male     15-29     14  \n",
       "237510  By coming under running vehicles/trains    Male      0-14      1  \n",
       "237511               By touching electric wires  Female      0-14      0  \n",
       "237512               By touching electric wires    Male     45-59      0  \n",
       "\n",
       "[67200 rows x 7 columns]"
      ]
     },
     "execution_count": 11,
     "metadata": {},
     "output_type": "execute_result"
    }
   ],
   "source": [
    "suicide_means_df"
   ]
  },
  {
   "cell_type": "code",
   "execution_count": 12,
   "metadata": {},
   "outputs": [
    {
     "data": {
      "text/html": [
       "<div>\n",
       "<style scoped>\n",
       "    .dataframe tbody tr th:only-of-type {\n",
       "        vertical-align: middle;\n",
       "    }\n",
       "\n",
       "    .dataframe tbody tr th {\n",
       "        vertical-align: top;\n",
       "    }\n",
       "\n",
       "    .dataframe thead th {\n",
       "        text-align: right;\n",
       "    }\n",
       "</style>\n",
       "<table border=\"1\" class=\"dataframe\">\n",
       "  <thead>\n",
       "    <tr style=\"text-align: right;\">\n",
       "      <th></th>\n",
       "      <th>State</th>\n",
       "      <th>Year</th>\n",
       "      <th>Type_code</th>\n",
       "      <th>Type</th>\n",
       "      <th>Gender</th>\n",
       "      <th>Age_group</th>\n",
       "      <th>Total</th>\n",
       "    </tr>\n",
       "  </thead>\n",
       "  <tbody>\n",
       "    <tr>\n",
       "      <th>16</th>\n",
       "      <td>A &amp; N ISLANDS</td>\n",
       "      <td>2001</td>\n",
       "      <td>Professional_Profile</td>\n",
       "      <td>House Wife</td>\n",
       "      <td>Male</td>\n",
       "      <td>60+</td>\n",
       "      <td>0</td>\n",
       "    </tr>\n",
       "    <tr>\n",
       "      <th>17</th>\n",
       "      <td>A &amp; N ISLANDS</td>\n",
       "      <td>2001</td>\n",
       "      <td>Professional_Profile</td>\n",
       "      <td>Others (Please Specify)</td>\n",
       "      <td>Male</td>\n",
       "      <td>0-14</td>\n",
       "      <td>0</td>\n",
       "    </tr>\n",
       "    <tr>\n",
       "      <th>18</th>\n",
       "      <td>A &amp; N ISLANDS</td>\n",
       "      <td>2001</td>\n",
       "      <td>Professional_Profile</td>\n",
       "      <td>Public Sector Undertaking</td>\n",
       "      <td>Female</td>\n",
       "      <td>30-44</td>\n",
       "      <td>0</td>\n",
       "    </tr>\n",
       "    <tr>\n",
       "      <th>19</th>\n",
       "      <td>A &amp; N ISLANDS</td>\n",
       "      <td>2001</td>\n",
       "      <td>Professional_Profile</td>\n",
       "      <td>Self-employed (Business activity)</td>\n",
       "      <td>Female</td>\n",
       "      <td>15-29</td>\n",
       "      <td>0</td>\n",
       "    </tr>\n",
       "    <tr>\n",
       "      <th>20</th>\n",
       "      <td>A &amp; N ISLANDS</td>\n",
       "      <td>2001</td>\n",
       "      <td>Professional_Profile</td>\n",
       "      <td>Service (Government)</td>\n",
       "      <td>Female</td>\n",
       "      <td>45-59</td>\n",
       "      <td>0</td>\n",
       "    </tr>\n",
       "    <tr>\n",
       "      <th>...</th>\n",
       "      <td>...</td>\n",
       "      <td>...</td>\n",
       "      <td>...</td>\n",
       "      <td>...</td>\n",
       "      <td>...</td>\n",
       "      <td>...</td>\n",
       "      <td>...</td>\n",
       "    </tr>\n",
       "    <tr>\n",
       "      <th>237513</th>\n",
       "      <td>WEST BENGAL</td>\n",
       "      <td>2012</td>\n",
       "      <td>Professional_Profile</td>\n",
       "      <td>Professional Activity</td>\n",
       "      <td>Male</td>\n",
       "      <td>15-29</td>\n",
       "      <td>0</td>\n",
       "    </tr>\n",
       "    <tr>\n",
       "      <th>237514</th>\n",
       "      <td>WEST BENGAL</td>\n",
       "      <td>2012</td>\n",
       "      <td>Professional_Profile</td>\n",
       "      <td>Professional Activity</td>\n",
       "      <td>Male</td>\n",
       "      <td>60+</td>\n",
       "      <td>0</td>\n",
       "    </tr>\n",
       "    <tr>\n",
       "      <th>237515</th>\n",
       "      <td>WEST BENGAL</td>\n",
       "      <td>2012</td>\n",
       "      <td>Professional_Profile</td>\n",
       "      <td>Self-employed (Business activity)</td>\n",
       "      <td>Male</td>\n",
       "      <td>0-14</td>\n",
       "      <td>0</td>\n",
       "    </tr>\n",
       "    <tr>\n",
       "      <th>237516</th>\n",
       "      <td>WEST BENGAL</td>\n",
       "      <td>2012</td>\n",
       "      <td>Professional_Profile</td>\n",
       "      <td>Service (Government)</td>\n",
       "      <td>Male</td>\n",
       "      <td>15-29</td>\n",
       "      <td>0</td>\n",
       "    </tr>\n",
       "    <tr>\n",
       "      <th>237517</th>\n",
       "      <td>WEST BENGAL</td>\n",
       "      <td>2012</td>\n",
       "      <td>Professional_Profile</td>\n",
       "      <td>Service (Government)</td>\n",
       "      <td>Male</td>\n",
       "      <td>60+</td>\n",
       "      <td>0</td>\n",
       "    </tr>\n",
       "  </tbody>\n",
       "</table>\n",
       "<p>49263 rows × 7 columns</p>\n",
       "</div>"
      ],
      "text/plain": [
       "                State  Year             Type_code  \\\n",
       "16      A & N ISLANDS  2001  Professional_Profile   \n",
       "17      A & N ISLANDS  2001  Professional_Profile   \n",
       "18      A & N ISLANDS  2001  Professional_Profile   \n",
       "19      A & N ISLANDS  2001  Professional_Profile   \n",
       "20      A & N ISLANDS  2001  Professional_Profile   \n",
       "...               ...   ...                   ...   \n",
       "237513    WEST BENGAL  2012  Professional_Profile   \n",
       "237514    WEST BENGAL  2012  Professional_Profile   \n",
       "237515    WEST BENGAL  2012  Professional_Profile   \n",
       "237516    WEST BENGAL  2012  Professional_Profile   \n",
       "237517    WEST BENGAL  2012  Professional_Profile   \n",
       "\n",
       "                                     Type  Gender Age_group  Total  \n",
       "16                             House Wife    Male       60+      0  \n",
       "17                Others (Please Specify)    Male      0-14      0  \n",
       "18              Public Sector Undertaking  Female     30-44      0  \n",
       "19      Self-employed (Business activity)  Female     15-29      0  \n",
       "20                   Service (Government)  Female     45-59      0  \n",
       "...                                   ...     ...       ...    ...  \n",
       "237513              Professional Activity    Male     15-29      0  \n",
       "237514              Professional Activity    Male       60+      0  \n",
       "237515  Self-employed (Business activity)    Male      0-14      0  \n",
       "237516               Service (Government)    Male     15-29      0  \n",
       "237517               Service (Government)    Male       60+      0  \n",
       "\n",
       "[49263 rows x 7 columns]"
      ]
     },
     "execution_count": 12,
     "metadata": {},
     "output_type": "execute_result"
    }
   ],
   "source": [
    "suicide_profession_df"
   ]
  },
  {
   "cell_type": "code",
   "execution_count": 13,
   "metadata": {},
   "outputs": [
    {
     "data": {
      "text/html": [
       "<div>\n",
       "<style scoped>\n",
       "    .dataframe tbody tr th:only-of-type {\n",
       "        vertical-align: middle;\n",
       "    }\n",
       "\n",
       "    .dataframe tbody tr th {\n",
       "        vertical-align: top;\n",
       "    }\n",
       "\n",
       "    .dataframe thead th {\n",
       "        text-align: right;\n",
       "    }\n",
       "</style>\n",
       "<table border=\"1\" class=\"dataframe\">\n",
       "  <thead>\n",
       "    <tr style=\"text-align: right;\">\n",
       "      <th></th>\n",
       "      <th>State</th>\n",
       "      <th>Year</th>\n",
       "      <th>Type_code</th>\n",
       "      <th>Type</th>\n",
       "      <th>Gender</th>\n",
       "      <th>Age_group</th>\n",
       "      <th>Total</th>\n",
       "    </tr>\n",
       "  </thead>\n",
       "  <tbody>\n",
       "    <tr>\n",
       "      <th>107</th>\n",
       "      <td>A &amp; N ISLANDS</td>\n",
       "      <td>2002</td>\n",
       "      <td>Social_Status</td>\n",
       "      <td>Never Married</td>\n",
       "      <td>Female</td>\n",
       "      <td>0-100+</td>\n",
       "      <td>17</td>\n",
       "    </tr>\n",
       "    <tr>\n",
       "      <th>134</th>\n",
       "      <td>A &amp; N ISLANDS</td>\n",
       "      <td>2004</td>\n",
       "      <td>Social_Status</td>\n",
       "      <td>Never Married</td>\n",
       "      <td>Female</td>\n",
       "      <td>0-100+</td>\n",
       "      <td>15</td>\n",
       "    </tr>\n",
       "    <tr>\n",
       "      <th>151</th>\n",
       "      <td>A &amp; N ISLANDS</td>\n",
       "      <td>2005</td>\n",
       "      <td>Social_Status</td>\n",
       "      <td>Married</td>\n",
       "      <td>Female</td>\n",
       "      <td>0-100+</td>\n",
       "      <td>35</td>\n",
       "    </tr>\n",
       "    <tr>\n",
       "      <th>259</th>\n",
       "      <td>A &amp; N ISLANDS</td>\n",
       "      <td>2001</td>\n",
       "      <td>Social_Status</td>\n",
       "      <td>Widowed/Widower</td>\n",
       "      <td>Male</td>\n",
       "      <td>0-100+</td>\n",
       "      <td>0</td>\n",
       "    </tr>\n",
       "    <tr>\n",
       "      <th>334</th>\n",
       "      <td>A &amp; N ISLANDS</td>\n",
       "      <td>2001</td>\n",
       "      <td>Social_Status</td>\n",
       "      <td>Married</td>\n",
       "      <td>Female</td>\n",
       "      <td>0-100+</td>\n",
       "      <td>38</td>\n",
       "    </tr>\n",
       "    <tr>\n",
       "      <th>...</th>\n",
       "      <td>...</td>\n",
       "      <td>...</td>\n",
       "      <td>...</td>\n",
       "      <td>...</td>\n",
       "      <td>...</td>\n",
       "      <td>...</td>\n",
       "      <td>...</td>\n",
       "    </tr>\n",
       "    <tr>\n",
       "      <th>237071</th>\n",
       "      <td>UTTAR PRADESH</td>\n",
       "      <td>2012</td>\n",
       "      <td>Social_Status</td>\n",
       "      <td>Married</td>\n",
       "      <td>Male</td>\n",
       "      <td>0-100+</td>\n",
       "      <td>1546</td>\n",
       "    </tr>\n",
       "    <tr>\n",
       "      <th>237092</th>\n",
       "      <td>UTTARAKHAND</td>\n",
       "      <td>2001</td>\n",
       "      <td>Social_Status</td>\n",
       "      <td>Divorcee</td>\n",
       "      <td>Male</td>\n",
       "      <td>0-100+</td>\n",
       "      <td>0</td>\n",
       "    </tr>\n",
       "    <tr>\n",
       "      <th>237377</th>\n",
       "      <td>WEST BENGAL</td>\n",
       "      <td>2004</td>\n",
       "      <td>Social_Status</td>\n",
       "      <td>Seperated</td>\n",
       "      <td>Female</td>\n",
       "      <td>0-100+</td>\n",
       "      <td>250</td>\n",
       "    </tr>\n",
       "    <tr>\n",
       "      <th>237487</th>\n",
       "      <td>WEST BENGAL</td>\n",
       "      <td>2010</td>\n",
       "      <td>Social_Status</td>\n",
       "      <td>Never Married</td>\n",
       "      <td>Female</td>\n",
       "      <td>0-100+</td>\n",
       "      <td>1766</td>\n",
       "    </tr>\n",
       "    <tr>\n",
       "      <th>237518</th>\n",
       "      <td>WEST BENGAL</td>\n",
       "      <td>2012</td>\n",
       "      <td>Social_Status</td>\n",
       "      <td>Never Married</td>\n",
       "      <td>Male</td>\n",
       "      <td>0-100+</td>\n",
       "      <td>2658</td>\n",
       "    </tr>\n",
       "  </tbody>\n",
       "</table>\n",
       "<p>4560 rows × 7 columns</p>\n",
       "</div>"
      ],
      "text/plain": [
       "                State  Year      Type_code             Type  Gender Age_group  \\\n",
       "107     A & N ISLANDS  2002  Social_Status    Never Married  Female    0-100+   \n",
       "134     A & N ISLANDS  2004  Social_Status    Never Married  Female    0-100+   \n",
       "151     A & N ISLANDS  2005  Social_Status          Married  Female    0-100+   \n",
       "259     A & N ISLANDS  2001  Social_Status  Widowed/Widower    Male    0-100+   \n",
       "334     A & N ISLANDS  2001  Social_Status          Married  Female    0-100+   \n",
       "...               ...   ...            ...              ...     ...       ...   \n",
       "237071  UTTAR PRADESH  2012  Social_Status          Married    Male    0-100+   \n",
       "237092    UTTARAKHAND  2001  Social_Status         Divorcee    Male    0-100+   \n",
       "237377    WEST BENGAL  2004  Social_Status        Seperated  Female    0-100+   \n",
       "237487    WEST BENGAL  2010  Social_Status    Never Married  Female    0-100+   \n",
       "237518    WEST BENGAL  2012  Social_Status    Never Married    Male    0-100+   \n",
       "\n",
       "        Total  \n",
       "107        17  \n",
       "134        15  \n",
       "151        35  \n",
       "259         0  \n",
       "334        38  \n",
       "...       ...  \n",
       "237071   1546  \n",
       "237092      0  \n",
       "237377    250  \n",
       "237487   1766  \n",
       "237518   2658  \n",
       "\n",
       "[4560 rows x 7 columns]"
      ]
     },
     "execution_count": 13,
     "metadata": {},
     "output_type": "execute_result"
    }
   ],
   "source": [
    "suicide_social_df"
   ]
  },
  {
   "cell_type": "code",
   "execution_count": 14,
   "metadata": {},
   "outputs": [],
   "source": [
    "# Now since the Type_code column is irrelevant in each dataframe, So we can drop it.\n",
    "suicide_cause_df = suicide_cause_df.drop(columns = ['Type_code'])\n",
    "suicide_education_df = suicide_education_df.drop(columns = ['Type_code'])\n",
    "suicide_profession_df = suicide_profession_df.drop(columns = ['Type_code'])\n",
    "suicide_social_df = suicide_social_df.drop(columns = ['Type_code'])\n",
    "suicide_means_df = suicide_means_df.drop(columns = ['Type_code'])"
   ]
  },
  {
   "cell_type": "code",
   "execution_count": 15,
   "metadata": {},
   "outputs": [],
   "source": [
    "import jovian"
   ]
  },
  {
   "cell_type": "code",
   "execution_count": null,
   "metadata": {},
   "outputs": [
    {
     "data": {
      "application/javascript": [
       "window.require && require([\"base/js/namespace\"],function(Jupyter){Jupyter.notebook.save_checkpoint()})"
      ],
      "text/plain": [
       "<IPython.core.display.Javascript object>"
      ]
     },
     "metadata": {},
     "output_type": "display_data"
    },
    {
     "name": "stdout",
     "output_type": "stream",
     "text": [
      "[jovian] Updating notebook \"fkzaidi199/suicides-by-profession-in-india\" on https://jovian.com\u001b[0m\n"
     ]
    }
   ],
   "source": [
    "jovian.commit(file='suicides_df')"
   ]
  },
  {
   "cell_type": "markdown",
   "metadata": {},
   "source": [
    "## Exploratory Analysis and Visualization"
   ]
  },
  {
   "cell_type": "markdown",
   "metadata": {},
   "source": [
    "### Suicide by Profession\n",
    "Let's examine the distribution of professions among individuals who have unfortunately taken their own lives. Analyzing the share of professions can provide insights into the occupational groups that may be more susceptible to suicide.\n",
    "By exploring the share of professions among individuals who have tragically taken their own lives, we can contribute to the ongoing efforts to prevent suicide and promote mental health and well-being within specific occupational communities."
   ]
  },
  {
   "cell_type": "code",
   "execution_count": 17,
   "metadata": {},
   "outputs": [],
   "source": [
    "suicides_profession_df = suicide_profession_df[suicide_profession_df.Total != 0]"
   ]
  },
  {
   "cell_type": "code",
   "execution_count": 18,
   "metadata": {},
   "outputs": [
    {
     "data": {
      "text/html": [
       "<div>\n",
       "<style scoped>\n",
       "    .dataframe tbody tr th:only-of-type {\n",
       "        vertical-align: middle;\n",
       "    }\n",
       "\n",
       "    .dataframe tbody tr th {\n",
       "        vertical-align: top;\n",
       "    }\n",
       "\n",
       "    .dataframe thead th {\n",
       "        text-align: right;\n",
       "    }\n",
       "</style>\n",
       "<table border=\"1\" class=\"dataframe\">\n",
       "  <thead>\n",
       "    <tr style=\"text-align: right;\">\n",
       "      <th></th>\n",
       "      <th>State</th>\n",
       "      <th>Year</th>\n",
       "      <th>Type</th>\n",
       "      <th>Gender</th>\n",
       "      <th>Age_group</th>\n",
       "      <th>Total</th>\n",
       "    </tr>\n",
       "  </thead>\n",
       "  <tbody>\n",
       "    <tr>\n",
       "      <th>37</th>\n",
       "      <td>A &amp; N ISLANDS</td>\n",
       "      <td>2002</td>\n",
       "      <td>Farming/Agriculture Activity</td>\n",
       "      <td>Male</td>\n",
       "      <td>30-44</td>\n",
       "      <td>3</td>\n",
       "    </tr>\n",
       "    <tr>\n",
       "      <th>39</th>\n",
       "      <td>A &amp; N ISLANDS</td>\n",
       "      <td>2002</td>\n",
       "      <td>Service (Government)</td>\n",
       "      <td>Female</td>\n",
       "      <td>30-44</td>\n",
       "      <td>1</td>\n",
       "    </tr>\n",
       "    <tr>\n",
       "      <th>40</th>\n",
       "      <td>A &amp; N ISLANDS</td>\n",
       "      <td>2002</td>\n",
       "      <td>Service (Government)</td>\n",
       "      <td>Male</td>\n",
       "      <td>30-44</td>\n",
       "      <td>8</td>\n",
       "    </tr>\n",
       "    <tr>\n",
       "      <th>62</th>\n",
       "      <td>A &amp; N ISLANDS</td>\n",
       "      <td>2003</td>\n",
       "      <td>Service (Government)</td>\n",
       "      <td>Male</td>\n",
       "      <td>30-44</td>\n",
       "      <td>7</td>\n",
       "    </tr>\n",
       "    <tr>\n",
       "      <th>96</th>\n",
       "      <td>A &amp; N ISLANDS</td>\n",
       "      <td>2001</td>\n",
       "      <td>Student</td>\n",
       "      <td>Male</td>\n",
       "      <td>0-14</td>\n",
       "      <td>1</td>\n",
       "    </tr>\n",
       "    <tr>\n",
       "      <th>...</th>\n",
       "      <td>...</td>\n",
       "      <td>...</td>\n",
       "      <td>...</td>\n",
       "      <td>...</td>\n",
       "      <td>...</td>\n",
       "      <td>...</td>\n",
       "    </tr>\n",
       "    <tr>\n",
       "      <th>237502</th>\n",
       "      <td>WEST BENGAL</td>\n",
       "      <td>2011</td>\n",
       "      <td>Others (Please Specify)</td>\n",
       "      <td>Male</td>\n",
       "      <td>60+</td>\n",
       "      <td>195</td>\n",
       "    </tr>\n",
       "    <tr>\n",
       "      <th>237503</th>\n",
       "      <td>WEST BENGAL</td>\n",
       "      <td>2011</td>\n",
       "      <td>Public Sector Undertaking</td>\n",
       "      <td>Female</td>\n",
       "      <td>30-44</td>\n",
       "      <td>61</td>\n",
       "    </tr>\n",
       "    <tr>\n",
       "      <th>237504</th>\n",
       "      <td>WEST BENGAL</td>\n",
       "      <td>2011</td>\n",
       "      <td>Public Sector Undertaking</td>\n",
       "      <td>Male</td>\n",
       "      <td>30-44</td>\n",
       "      <td>245</td>\n",
       "    </tr>\n",
       "    <tr>\n",
       "      <th>237505</th>\n",
       "      <td>WEST BENGAL</td>\n",
       "      <td>2011</td>\n",
       "      <td>Service (Government)</td>\n",
       "      <td>Male</td>\n",
       "      <td>60+</td>\n",
       "      <td>1</td>\n",
       "    </tr>\n",
       "    <tr>\n",
       "      <th>237506</th>\n",
       "      <td>WEST BENGAL</td>\n",
       "      <td>2011</td>\n",
       "      <td>Unemployed</td>\n",
       "      <td>Female</td>\n",
       "      <td>60+</td>\n",
       "      <td>6</td>\n",
       "    </tr>\n",
       "  </tbody>\n",
       "</table>\n",
       "<p>23291 rows × 6 columns</p>\n",
       "</div>"
      ],
      "text/plain": [
       "                State  Year                          Type  Gender Age_group  \\\n",
       "37      A & N ISLANDS  2002  Farming/Agriculture Activity    Male     30-44   \n",
       "39      A & N ISLANDS  2002          Service (Government)  Female     30-44   \n",
       "40      A & N ISLANDS  2002          Service (Government)    Male     30-44   \n",
       "62      A & N ISLANDS  2003          Service (Government)    Male     30-44   \n",
       "96      A & N ISLANDS  2001                       Student    Male      0-14   \n",
       "...               ...   ...                           ...     ...       ...   \n",
       "237502    WEST BENGAL  2011       Others (Please Specify)    Male       60+   \n",
       "237503    WEST BENGAL  2011     Public Sector Undertaking  Female     30-44   \n",
       "237504    WEST BENGAL  2011     Public Sector Undertaking    Male     30-44   \n",
       "237505    WEST BENGAL  2011          Service (Government)    Male       60+   \n",
       "237506    WEST BENGAL  2011                    Unemployed  Female       60+   \n",
       "\n",
       "        Total  \n",
       "37          3  \n",
       "39          1  \n",
       "40          8  \n",
       "62          7  \n",
       "96          1  \n",
       "...       ...  \n",
       "237502    195  \n",
       "237503     61  \n",
       "237504    245  \n",
       "237505      1  \n",
       "237506      6  \n",
       "\n",
       "[23291 rows x 6 columns]"
      ]
     },
     "execution_count": 18,
     "metadata": {},
     "output_type": "execute_result"
    }
   ],
   "source": [
    "suicides_profession_df"
   ]
  },
  {
   "cell_type": "code",
   "execution_count": 19,
   "metadata": {},
   "outputs": [
    {
     "data": {
      "text/plain": [
       "Type\n",
       "Farming/Agriculture Activity         197923\n",
       "House Wife                           285243\n",
       "Others (Please Specify)              469147\n",
       "Professional Activity                 39204\n",
       "Public Sector Undertaking             30786\n",
       "Retired Person                        11334\n",
       "Self-employed (Business activity)     78112\n",
       "Service (Government)                  23325\n",
       "Service (Private)                    115472\n",
       "Student                               74323\n",
       "Unemployed                           114374\n",
       "Name: Total, dtype: int64"
      ]
     },
     "execution_count": 19,
     "metadata": {},
     "output_type": "execute_result"
    }
   ],
   "source": [
    "top_profession = suicides_profession_df.groupby('Type')['Total'].sum()\n",
    "top_profession"
   ]
  },
  {
   "cell_type": "markdown",
   "metadata": {},
   "source": [
    "We can visualise the information using a bar chart"
   ]
  },
  {
   "cell_type": "code",
   "execution_count": 20,
   "metadata": {
    "scrolled": false
   },
   "outputs": [
    {
     "data": {
      "image/png": "[encoded data removed]",
      "text/plain": [
       "<Figure size 864x432 with 1 Axes>"
      ]
     },
     "metadata": {
      "needs_background": "light"
     },
     "output_type": "display_data"
    }
   ],
   "source": [
    "plt.figure(figsize=(12,6))\n",
    "plt.xticks(rotation=90)\n",
    "plt.title('Suicides by Profession (2001-2012)')\n",
    "sns.barplot(x=top_profession.index, y=top_profession);"
   ]
  },
  {
   "cell_type": "markdown",
   "metadata": {},
   "source": [
    "Analysis of the data reveals distinct patterns in the distribution of professions among individuals who have committed suicide. The category with the highest number of suicides is Housewives, indicating that individuals engaged in domestic responsibilities face a significant risk of suicide. Following closely is the category of Farming/Agricultural activity, highlighting the challenges and stressors faced by individuals in this profession. The Service (private) sector and unemployed individuals also demonstrate notable proportions among suicide cases.\n",
    "\n",
    "It is worth noting that the category labeled as \"Others (Please specify)\" has been excluded from the analysis, as it lacks specific information to provide meaningful insights."
   ]
  },
  {
   "cell_type": "markdown",
   "metadata": {},
   "source": [
    "### Cause of the suicide\n",
    "Examining the major causes of suicides provides valuable insights into the underlying factors contributing to these tragic incidents. By understanding the primary causes, we can identify areas where intervention and support systems can be targeted to prevent such occurrences in the future.\n",
    "\n",
    "Analyzing the available data, several significant causes of suicide emerge. It is important to note that these causes may vary across different regions and populations. However, based on the provided dataset, some common major causes of suicide can be identified."
   ]
  },
  {
   "cell_type": "code",
   "execution_count": 21,
   "metadata": {
    "scrolled": false
   },
   "outputs": [
    {
     "data": {
      "text/html": [
       "<div>\n",
       "<style scoped>\n",
       "    .dataframe tbody tr th:only-of-type {\n",
       "        vertical-align: middle;\n",
       "    }\n",
       "\n",
       "    .dataframe tbody tr th {\n",
       "        vertical-align: top;\n",
       "    }\n",
       "\n",
       "    .dataframe thead th {\n",
       "        text-align: right;\n",
       "    }\n",
       "</style>\n",
       "<table border=\"1\" class=\"dataframe\">\n",
       "  <thead>\n",
       "    <tr style=\"text-align: right;\">\n",
       "      <th></th>\n",
       "      <th>State</th>\n",
       "      <th>Year</th>\n",
       "      <th>Type</th>\n",
       "      <th>Gender</th>\n",
       "      <th>Age_group</th>\n",
       "      <th>Total</th>\n",
       "    </tr>\n",
       "  </thead>\n",
       "  <tbody>\n",
       "    <tr>\n",
       "      <th>44</th>\n",
       "      <td>A &amp; N ISLANDS</td>\n",
       "      <td>2003</td>\n",
       "      <td>Fall in Social Reputation</td>\n",
       "      <td>Male</td>\n",
       "      <td>0-14</td>\n",
       "      <td>1</td>\n",
       "    </tr>\n",
       "    <tr>\n",
       "      <th>45</th>\n",
       "      <td>A &amp; N ISLANDS</td>\n",
       "      <td>2003</td>\n",
       "      <td>Family Problems</td>\n",
       "      <td>Male</td>\n",
       "      <td>15-29</td>\n",
       "      <td>5</td>\n",
       "    </tr>\n",
       "    <tr>\n",
       "      <th>52</th>\n",
       "      <td>A &amp; N ISLANDS</td>\n",
       "      <td>2003</td>\n",
       "      <td>Suspected/Illicit Relation</td>\n",
       "      <td>Female</td>\n",
       "      <td>15-29</td>\n",
       "      <td>1</td>\n",
       "    </tr>\n",
       "    <tr>\n",
       "      <th>66</th>\n",
       "      <td>A &amp; N ISLANDS</td>\n",
       "      <td>2004</td>\n",
       "      <td>Other Prolonged Illness</td>\n",
       "      <td>Male</td>\n",
       "      <td>30-44</td>\n",
       "      <td>4</td>\n",
       "    </tr>\n",
       "    <tr>\n",
       "      <th>85</th>\n",
       "      <td>A &amp; N ISLANDS</td>\n",
       "      <td>2001</td>\n",
       "      <td>Insanity/Mental Illness</td>\n",
       "      <td>Male</td>\n",
       "      <td>30-44</td>\n",
       "      <td>3</td>\n",
       "    </tr>\n",
       "    <tr>\n",
       "      <th>...</th>\n",
       "      <td>...</td>\n",
       "      <td>...</td>\n",
       "      <td>...</td>\n",
       "      <td>...</td>\n",
       "      <td>...</td>\n",
       "      <td>...</td>\n",
       "    </tr>\n",
       "    <tr>\n",
       "      <th>237491</th>\n",
       "      <td>WEST BENGAL</td>\n",
       "      <td>2011</td>\n",
       "      <td>Family Problems</td>\n",
       "      <td>Male</td>\n",
       "      <td>45-59</td>\n",
       "      <td>512</td>\n",
       "    </tr>\n",
       "    <tr>\n",
       "      <th>237493</th>\n",
       "      <td>WEST BENGAL</td>\n",
       "      <td>2011</td>\n",
       "      <td>Not having Children(Barrenness/Impotency</td>\n",
       "      <td>Female</td>\n",
       "      <td>30-44</td>\n",
       "      <td>12</td>\n",
       "    </tr>\n",
       "    <tr>\n",
       "      <th>237494</th>\n",
       "      <td>WEST BENGAL</td>\n",
       "      <td>2011</td>\n",
       "      <td>Other Causes (Please Specity)</td>\n",
       "      <td>Male</td>\n",
       "      <td>0-14</td>\n",
       "      <td>83</td>\n",
       "    </tr>\n",
       "    <tr>\n",
       "      <th>237496</th>\n",
       "      <td>WEST BENGAL</td>\n",
       "      <td>2011</td>\n",
       "      <td>Physical Abuse (Rape/Incest Etc.)</td>\n",
       "      <td>Female</td>\n",
       "      <td>30-44</td>\n",
       "      <td>2</td>\n",
       "    </tr>\n",
       "    <tr>\n",
       "      <th>237498</th>\n",
       "      <td>WEST BENGAL</td>\n",
       "      <td>2011</td>\n",
       "      <td>Unemployment</td>\n",
       "      <td>Male</td>\n",
       "      <td>15-29</td>\n",
       "      <td>139</td>\n",
       "    </tr>\n",
       "  </tbody>\n",
       "</table>\n",
       "<p>39531 rows × 6 columns</p>\n",
       "</div>"
      ],
      "text/plain": [
       "                State  Year                                      Type  Gender  \\\n",
       "44      A & N ISLANDS  2003                 Fall in Social Reputation    Male   \n",
       "45      A & N ISLANDS  2003                           Family Problems    Male   \n",
       "52      A & N ISLANDS  2003                Suspected/Illicit Relation  Female   \n",
       "66      A & N ISLANDS  2004                   Other Prolonged Illness    Male   \n",
       "85      A & N ISLANDS  2001                   Insanity/Mental Illness    Male   \n",
       "...               ...   ...                                       ...     ...   \n",
       "237491    WEST BENGAL  2011                           Family Problems    Male   \n",
       "237493    WEST BENGAL  2011  Not having Children(Barrenness/Impotency  Female   \n",
       "237494    WEST BENGAL  2011             Other Causes (Please Specity)    Male   \n",
       "237496    WEST BENGAL  2011         Physical Abuse (Rape/Incest Etc.)  Female   \n",
       "237498    WEST BENGAL  2011                              Unemployment    Male   \n",
       "\n",
       "       Age_group  Total  \n",
       "44          0-14      1  \n",
       "45         15-29      5  \n",
       "52         15-29      1  \n",
       "66         30-44      4  \n",
       "85         30-44      3  \n",
       "...          ...    ...  \n",
       "237491     45-59    512  \n",
       "237493     30-44     12  \n",
       "237494      0-14     83  \n",
       "237496     30-44      2  \n",
       "237498     15-29    139  \n",
       "\n",
       "[39531 rows x 6 columns]"
      ]
     },
     "execution_count": 21,
     "metadata": {},
     "output_type": "execute_result"
    }
   ],
   "source": [
    "suicides_cause_df = suicide_cause_df[suicide_cause_df.Total != 0]\n",
    "suicides_cause_df"
   ]
  },
  {
   "cell_type": "code",
   "execution_count": 22,
   "metadata": {},
   "outputs": [
    {
     "data": {
      "text/plain": [
       "Type\n",
       "Bankruptcy or Sudden change in Economic            32755\n",
       "Bankruptcy or Sudden change in Economic Status      2655\n",
       "Cancellation/Non-Settlement of Marriage            11296\n",
       "Cancer                                              9058\n",
       "Causes Not known                                  237069\n",
       "Death of Dear Person                               10321\n",
       "Divorce                                             4133\n",
       "Dowry Dispute                                      31970\n",
       "Drug Abuse/Addiction                               30046\n",
       "Failure in Examination                             27005\n",
       "Fall in Social Reputation                          13464\n",
       "Family Problems                                   341952\n",
       "Ideological Causes/Hero Worshipping                 2118\n",
       "Illegitimate Pregnancy                              2494\n",
       "Illness (Aids/STD)                                  8723\n",
       "Insanity/Mental Illness                            94229\n",
       "Love Affairs                                       45039\n",
       "Not having Children (Barrenness/Impotency            766\n",
       "Not having Children(Barrenness/Impotency            7822\n",
       "Other Causes (Please Specity)                     216050\n",
       "Other Prolonged Illness                           194565\n",
       "Paralysis                                           7286\n",
       "Physical Abuse (Rape/Incest Etc.)                   3992\n",
       "Poverty                                            32684\n",
       "Professional/Career Problem                        12554\n",
       "Property Dispute                                   18652\n",
       "Suspected/Illicit Relation                         14911\n",
       "Unemployment                                       27365\n",
       "Name: Total, dtype: int64"
      ]
     },
     "execution_count": 22,
     "metadata": {},
     "output_type": "execute_result"
    }
   ],
   "source": [
    "top_cause = suicides_cause_df.groupby('Type')['Total'].sum()\n",
    "top_cause"
   ]
  },
  {
   "cell_type": "markdown",
   "metadata": {},
   "source": [
    "As we can see, a specific value is repeated twice, we need to merge these two."
   ]
  },
  {
   "cell_type": "code",
   "execution_count": 23,
   "metadata": {},
   "outputs": [],
   "source": [
    "suicides_cause_df_copy = suicides_cause_df.copy()\n",
    "suicides_cause_df_copy.loc[suicides_cause_df_copy['Type'] == 'Bankruptcy or Sudden change in Economic', 'Type'] = 'Bankruptcy or Sudden change in Economic Status'"
   ]
  },
  {
   "cell_type": "code",
   "execution_count": 24,
   "metadata": {},
   "outputs": [
    {
     "data": {
      "text/plain": [
       "Type\n",
       "Bankruptcy or Sudden change in Economic Status     35410\n",
       "Cancellation/Non-Settlement of Marriage            11296\n",
       "Cancer                                              9058\n",
       "Causes Not known                                  237069\n",
       "Death of Dear Person                               10321\n",
       "Divorce                                             4133\n",
       "Dowry Dispute                                      31970\n",
       "Drug Abuse/Addiction                               30046\n",
       "Failure in Examination                             27005\n",
       "Fall in Social Reputation                          13464\n",
       "Family Problems                                   341952\n",
       "Ideological Causes/Hero Worshipping                 2118\n",
       "Illegitimate Pregnancy                              2494\n",
       "Illness (Aids/STD)                                  8723\n",
       "Insanity/Mental Illness                            94229\n",
       "Love Affairs                                       45039\n",
       "Not having Children (Barrenness/Impotency            766\n",
       "Not having Children(Barrenness/Impotency            7822\n",
       "Other Causes (Please Specity)                     216050\n",
       "Other Prolonged Illness                           194565\n",
       "Paralysis                                           7286\n",
       "Physical Abuse (Rape/Incest Etc.)                   3992\n",
       "Poverty                                            32684\n",
       "Professional/Career Problem                        12554\n",
       "Property Dispute                                   18652\n",
       "Suspected/Illicit Relation                         14911\n",
       "Unemployment                                       27365\n",
       "Name: Total, dtype: int64"
      ]
     },
     "execution_count": 24,
     "metadata": {},
     "output_type": "execute_result"
    }
   ],
   "source": [
    "top_cause = suicides_cause_df_copy.groupby('Type')['Total'].sum()\n",
    "top_cause"
   ]
  },
  {
   "cell_type": "markdown",
   "metadata": {},
   "source": [
    "We have merged the repeating values by creating a copy of the dataframe. Now, we can continue with our analysis."
   ]
  },
  {
   "cell_type": "code",
   "execution_count": 25,
   "metadata": {
    "scrolled": false
   },
   "outputs": [
    {
     "data": {
      "image/png": "[encoded data removed]",
      "text/plain": [
       "<Figure size 864x864 with 1 Axes>"
      ]
     },
     "metadata": {
      "needs_background": "light"
     },
     "output_type": "display_data"
    }
   ],
   "source": [
    "plt.figure(figsize=(12, 12))\n",
    "sns.barplot(x=top_cause, y=top_cause.index)\n",
    "plt.title(\"Major causes of suicides\");\n",
    "plt.xlabel('count');"
   ]
  },
  {
   "cell_type": "markdown",
   "metadata": {},
   "source": [
    "The bar chart illustrates the distribution of major causes of suicides based on the provided data. \n",
    "\n",
    "From the chart, it is evident that there are several significant causes of suicides. Some of the notable causes include family problems, causes not known, other prolonged illnesses, and poverty. These causes exhibit higher frequencies compared to others in the dataset.\n",
    "\n",
    "Family problems emerge as one of the leading causes, with a substantial number of suicides attributed to issues within familial relationships. Causes not known represent a considerable portion as well, indicating that in a significant number of cases, the underlying factors leading to suicide remain unidentified or unreported.\n",
    "\n",
    "Other prolonged illnesses and poverty also contribute significantly to the occurrence of suicides, underscoring the impact of physical health challenges and socioeconomic hardships on individuals' mental well-being.\n",
    "\n",
    "Additionally, the data reveals the prevalence of specific causes such as bankruptcy or sudden change in economic status, cancellation/non-settlement of marriage, cancer, death of a dear person, and drug abuse/addiction, among others.\n",
    "\n",
    "Understanding the major causes of suicides highlighted in the chart is crucial for developing targeted interventions, prevention strategies, and support systems. Efforts to address mental health, improve access to healthcare services, alleviate financial distress, strengthen social support networks, and raise awareness about the impact of these causes can help in reducing the occurrence of suicides and promoting overall well-being in society."
   ]
  },
  {
   "cell_type": "code",
   "execution_count": 26,
   "metadata": {},
   "outputs": [
    {
     "data": {
      "application/javascript": [
       "window.require && require([\"base/js/namespace\"],function(Jupyter){Jupyter.notebook.save_checkpoint()})"
      ],
      "text/plain": [
       "<IPython.core.display.Javascript object>"
      ]
     },
     "metadata": {},
     "output_type": "display_data"
    },
    {
     "name": "stdout",
     "output_type": "stream",
     "text": [
      "[jovian] Updating notebook \"fkzaidi199/suicides-by-profession-in-india\" on https://jovian.com\u001b[0m\n",
      "[jovian] Committed successfully! https://jovian.com/fkzaidi199/suicides-by-profession-in-india\u001b[0m\n"
     ]
    },
    {
     "data": {
      "text/plain": [
       "'https://jovian.com/fkzaidi199/suicides-by-profession-in-india'"
      ]
     },
     "execution_count": 26,
     "metadata": {},
     "output_type": "execute_result"
    }
   ],
   "source": [
    "jovian.commit(file='suicides_df')"
   ]
  },
  {
   "cell_type": "markdown",
   "metadata": {},
   "source": [
    "### Age group\n",
    "Analyzing the number of suicides based on age groups provides insights into the distribution of suicide cases across different stages of life. By examining this data, we can identify any notable patterns or trends that exist within specific age groups.\n",
    "\n",
    "The dataset reveals the number of individuals committing suicide within different age groups. By assessing this information, we can gain a better understanding of which age cohorts may be more vulnerable to suicide"
   ]
  },
  {
   "cell_type": "code",
   "execution_count": 27,
   "metadata": {},
   "outputs": [
    {
     "data": {
      "text/plain": [
       "Age_group\n",
       "0-14      32685\n",
       "15-29    509776\n",
       "30-44    488713\n",
       "45-59    294333\n",
       "60+      115467\n",
       "Name: Total, dtype: int64"
      ]
     },
     "execution_count": 27,
     "metadata": {},
     "output_type": "execute_result"
    }
   ],
   "source": [
    "age_group = suicides_cause_df.groupby('Age_group')['Total'].sum()\n",
    "age_group"
   ]
  },
  {
   "cell_type": "code",
   "execution_count": 28,
   "metadata": {
    "scrolled": false
   },
   "outputs": [
    {
     "data": {
      "image/png": "[encoded data removed]",
      "text/plain": [
       "<Figure size 864x432 with 1 Axes>"
      ]
     },
     "metadata": {
      "needs_background": "light"
     },
     "output_type": "display_data"
    }
   ],
   "source": [
    "plt.figure(figsize=(12,6))\n",
    "plt.xticks(rotation=90)\n",
    "plt.title('Suicides by Age group (2001-2012)')\n",
    "sns.barplot(x= age_group.index, y=age_group);"
   ]
  },
  {
   "cell_type": "markdown",
   "metadata": {},
   "source": [
    "Analyzing the chart, we can observe the distribution of suicides across various age cohorts.\n",
    "\n",
    "The age group with the highest number of suicides is 15-29 years, indicating that individuals in this age range are particularly vulnerable to suicidal behavior. This age group encompasses young adults and individuals in early adulthood, who may be facing significant life transitions, academic or career pressures, relationship challenges, or mental health issues.\n",
    "\n",
    "Following closely is the age group of 30-44 years, suggesting that individuals in their prime working and family-building years also experience a significant number of suicides. Factors such as job-related stress, financial pressures, relationship difficulties, and the demands of balancing multiple responsibilities may contribute to the higher prevalence of suicides in this age range.\n",
    "\n",
    "The age group of 45-59 years shows a relatively lower number of suicides compared to the previous age groups, indicating a potential decrease in suicide rates as individuals reach middle age. However, it is important to note that suicide is still a concern within this age group, and factors such as mid-life crises, health issues, and personal challenges may contribute to these cases.\n",
    "\n",
    "The age group of 60+ represents individuals in their senior years, and while the number of suicides is lower compared to younger age groups, it is still a significant concern. Factors such as physical health decline, social isolation, bereavement, and mental health issues may contribute to the vulnerability of older adults to suicidal thoughts and actions.\n",
    "\n",
    "Understanding the distribution of suicides across different age groups is crucial for developing targeted prevention strategies, promoting mental health support, and implementing age-appropriate interventions. By addressing the unique challenges and risk factors faced by individuals in each age cohort, we can work towards reducing the prevalence of suicides and enhancing overall well-being at various stages of life."
   ]
  },
  {
   "cell_type": "code",
   "execution_count": 29,
   "metadata": {},
   "outputs": [
    {
     "data": {
      "application/javascript": [
       "window.require && require([\"base/js/namespace\"],function(Jupyter){Jupyter.notebook.save_checkpoint()})"
      ],
      "text/plain": [
       "<IPython.core.display.Javascript object>"
      ]
     },
     "metadata": {},
     "output_type": "display_data"
    },
    {
     "name": "stdout",
     "output_type": "stream",
     "text": [
      "[jovian] Updating notebook \"fkzaidi199/suicides-by-profession-in-india\" on https://jovian.com\u001b[0m\n",
      "[jovian] Committed successfully! https://jovian.com/fkzaidi199/suicides-by-profession-in-india\u001b[0m\n"
     ]
    },
    {
     "data": {
      "text/plain": [
       "'https://jovian.com/fkzaidi199/suicides-by-profession-in-india'"
      ]
     },
     "execution_count": 29,
     "metadata": {},
     "output_type": "execute_result"
    }
   ],
   "source": [
    "jovian.commit(file = 'suicides_df')"
   ]
  },
  {
   "cell_type": "markdown",
   "metadata": {},
   "source": [
    "### Gender\n",
    "Examining the gender distribution of individuals committing suicides provides insights into any potential disparities or patterns that exist within different gender groups. By analyzing this data, we can identify the relative proportions of male and female suicide cases and explore any underlying factors that may contribute to gender-related differences in suicidal behavior."
   ]
  },
  {
   "cell_type": "code",
   "execution_count": 30,
   "metadata": {},
   "outputs": [
    {
     "data": {
      "text/plain": [
       "Gender\n",
       "Female    517736\n",
       "Male      923238\n",
       "Name: Total, dtype: int64"
      ]
     },
     "execution_count": 30,
     "metadata": {},
     "output_type": "execute_result"
    }
   ],
   "source": [
    "gender = suicides_cause_df.groupby('Gender')['Total'].sum()\n",
    "gender"
   ]
  },
  {
   "cell_type": "code",
   "execution_count": 31,
   "metadata": {},
   "outputs": [
    {
     "data": {
      "image/png": "[encoded data removed]",
      "text/plain": [
       "<Figure size 864x432 with 1 Axes>"
      ]
     },
     "metadata": {},
     "output_type": "display_data"
    }
   ],
   "source": [
    "plt.figure(figsize=(12,6))\n",
    "plt.title('Gender of the people who committed suicide')\n",
    "plt.pie(gender, labels=gender.index, autopct='%1.1f%%', startangle=180);"
   ]
  },
  {
   "cell_type": "markdown",
   "metadata": {},
   "source": [
    "Among the individuals who have taken their own lives, the data shows that females account for approximately 36% of the total cases, while males account for around 64%.\n",
    "\n",
    "This gender disparity indicates that a higher proportion of males are affected by suicide compared to females.\n",
    "\n",
    "The larger portion of males in the dataset suggests that men may be more vulnerable to suicidal tendencies or face unique challenges and risk factors that contribute to higher rates of suicide. "
   ]
  },
  {
   "cell_type": "markdown",
   "metadata": {},
   "source": [
    "### Social Status\n",
    "To explore this data further, we can examine the number of suicides within each social status category. It is important to note that the specific social status categories may vary depending on the dataset. However, by observing the relative frequencies or counts of suicides within each category, we can identify any significant trends or disparities"
   ]
  },
  {
   "cell_type": "code",
   "execution_count": 32,
   "metadata": {},
   "outputs": [
    {
     "data": {
      "text/html": [
       "<div>\n",
       "<style scoped>\n",
       "    .dataframe tbody tr th:only-of-type {\n",
       "        vertical-align: middle;\n",
       "    }\n",
       "\n",
       "    .dataframe tbody tr th {\n",
       "        vertical-align: top;\n",
       "    }\n",
       "\n",
       "    .dataframe thead th {\n",
       "        text-align: right;\n",
       "    }\n",
       "</style>\n",
       "<table border=\"1\" class=\"dataframe\">\n",
       "  <thead>\n",
       "    <tr style=\"text-align: right;\">\n",
       "      <th></th>\n",
       "      <th>State</th>\n",
       "      <th>Year</th>\n",
       "      <th>Type</th>\n",
       "      <th>Gender</th>\n",
       "      <th>Age_group</th>\n",
       "      <th>Total</th>\n",
       "    </tr>\n",
       "  </thead>\n",
       "  <tbody>\n",
       "    <tr>\n",
       "      <th>107</th>\n",
       "      <td>A &amp; N ISLANDS</td>\n",
       "      <td>2002</td>\n",
       "      <td>Never Married</td>\n",
       "      <td>Female</td>\n",
       "      <td>0-100+</td>\n",
       "      <td>17</td>\n",
       "    </tr>\n",
       "    <tr>\n",
       "      <th>134</th>\n",
       "      <td>A &amp; N ISLANDS</td>\n",
       "      <td>2004</td>\n",
       "      <td>Never Married</td>\n",
       "      <td>Female</td>\n",
       "      <td>0-100+</td>\n",
       "      <td>15</td>\n",
       "    </tr>\n",
       "    <tr>\n",
       "      <th>151</th>\n",
       "      <td>A &amp; N ISLANDS</td>\n",
       "      <td>2005</td>\n",
       "      <td>Married</td>\n",
       "      <td>Female</td>\n",
       "      <td>0-100+</td>\n",
       "      <td>35</td>\n",
       "    </tr>\n",
       "    <tr>\n",
       "      <th>334</th>\n",
       "      <td>A &amp; N ISLANDS</td>\n",
       "      <td>2001</td>\n",
       "      <td>Married</td>\n",
       "      <td>Female</td>\n",
       "      <td>0-100+</td>\n",
       "      <td>38</td>\n",
       "    </tr>\n",
       "    <tr>\n",
       "      <th>385</th>\n",
       "      <td>A &amp; N ISLANDS</td>\n",
       "      <td>2004</td>\n",
       "      <td>Married</td>\n",
       "      <td>Female</td>\n",
       "      <td>0-100+</td>\n",
       "      <td>26</td>\n",
       "    </tr>\n",
       "    <tr>\n",
       "      <th>...</th>\n",
       "      <td>...</td>\n",
       "      <td>...</td>\n",
       "      <td>...</td>\n",
       "      <td>...</td>\n",
       "      <td>...</td>\n",
       "      <td>...</td>\n",
       "    </tr>\n",
       "    <tr>\n",
       "      <th>236867</th>\n",
       "      <td>TRIPURA</td>\n",
       "      <td>2012</td>\n",
       "      <td>Seperated</td>\n",
       "      <td>Female</td>\n",
       "      <td>0-100+</td>\n",
       "      <td>14</td>\n",
       "    </tr>\n",
       "    <tr>\n",
       "      <th>237071</th>\n",
       "      <td>UTTAR PRADESH</td>\n",
       "      <td>2012</td>\n",
       "      <td>Married</td>\n",
       "      <td>Male</td>\n",
       "      <td>0-100+</td>\n",
       "      <td>1546</td>\n",
       "    </tr>\n",
       "    <tr>\n",
       "      <th>237377</th>\n",
       "      <td>WEST BENGAL</td>\n",
       "      <td>2004</td>\n",
       "      <td>Seperated</td>\n",
       "      <td>Female</td>\n",
       "      <td>0-100+</td>\n",
       "      <td>250</td>\n",
       "    </tr>\n",
       "    <tr>\n",
       "      <th>237487</th>\n",
       "      <td>WEST BENGAL</td>\n",
       "      <td>2010</td>\n",
       "      <td>Never Married</td>\n",
       "      <td>Female</td>\n",
       "      <td>0-100+</td>\n",
       "      <td>1766</td>\n",
       "    </tr>\n",
       "    <tr>\n",
       "      <th>237518</th>\n",
       "      <td>WEST BENGAL</td>\n",
       "      <td>2012</td>\n",
       "      <td>Never Married</td>\n",
       "      <td>Male</td>\n",
       "      <td>0-100+</td>\n",
       "      <td>2658</td>\n",
       "    </tr>\n",
       "  </tbody>\n",
       "</table>\n",
       "<p>3703 rows × 6 columns</p>\n",
       "</div>"
      ],
      "text/plain": [
       "                State  Year           Type  Gender Age_group  Total\n",
       "107     A & N ISLANDS  2002  Never Married  Female    0-100+     17\n",
       "134     A & N ISLANDS  2004  Never Married  Female    0-100+     15\n",
       "151     A & N ISLANDS  2005        Married  Female    0-100+     35\n",
       "334     A & N ISLANDS  2001        Married  Female    0-100+     38\n",
       "385     A & N ISLANDS  2004        Married  Female    0-100+     26\n",
       "...               ...   ...            ...     ...       ...    ...\n",
       "236867        TRIPURA  2012      Seperated  Female    0-100+     14\n",
       "237071  UTTAR PRADESH  2012        Married    Male    0-100+   1546\n",
       "237377    WEST BENGAL  2004      Seperated  Female    0-100+    250\n",
       "237487    WEST BENGAL  2010  Never Married  Female    0-100+   1766\n",
       "237518    WEST BENGAL  2012  Never Married    Male    0-100+   2658\n",
       "\n",
       "[3703 rows x 6 columns]"
      ]
     },
     "execution_count": 32,
     "metadata": {},
     "output_type": "execute_result"
    }
   ],
   "source": [
    "suicides_social_df = suicide_social_df[suicide_social_df.Total != 0]\n",
    "suicides_social_df"
   ]
  },
  {
   "cell_type": "code",
   "execution_count": 33,
   "metadata": {},
   "outputs": [
    {
     "data": {
      "text/plain": [
       "Type\n",
       "Divorcee             45816\n",
       "Married            3065322\n",
       "Never Married       954903\n",
       "Seperated           115413\n",
       "Widowed/Widower     186339\n",
       "Name: Total, dtype: int64"
      ]
     },
     "execution_count": 33,
     "metadata": {},
     "output_type": "execute_result"
    }
   ],
   "source": [
    "social_status = suicides_social_df.groupby('Type')['Total'].sum()\n",
    "social_status"
   ]
  },
  {
   "cell_type": "code",
   "execution_count": 34,
   "metadata": {},
   "outputs": [
    {
     "data": {
      "image/png": "[encoded data removed]",
      "text/plain": [
       "<Figure size 864x432 with 1 Axes>"
      ]
     },
     "metadata": {},
     "output_type": "display_data"
    }
   ],
   "source": [
    "plt.figure(figsize=(12,6))\n",
    "plt.title('Social status of the people who committed suicide')\n",
    "plt.pie(social_status, labels=social_status.index, autopct='%1.1f%%', startangle=180);"
   ]
  },
  {
   "cell_type": "markdown",
   "metadata": {},
   "source": [
    "Based on the available data, it is evident that the majority of individuals who committed suicide, approximately 70%, were married. This suggests that marital status may be a significant factor contributing to the prevalence of suicides. Additionally, around 21.9% of the suicides were individuals who had never been married. This category includes individuals who were single or not in a current marital relationship.\n",
    "\n",
    "Furthermore, approximately 1% of the suicides were individuals who had gone through a divorce, indicating that the process of divorce may also play a role in suicidal tendencies. Additionally, 2.6% of the suicides were individuals who were separated, possibly indicating the emotional distress associated with relationship breakdown. Finally, approximately 4.3% of the suicides were individuals who were already widowed."
   ]
  },
  {
   "cell_type": "code",
   "execution_count": 35,
   "metadata": {},
   "outputs": [
    {
     "data": {
      "application/javascript": [
       "window.require && require([\"base/js/namespace\"],function(Jupyter){Jupyter.notebook.save_checkpoint()})"
      ],
      "text/plain": [
       "<IPython.core.display.Javascript object>"
      ]
     },
     "metadata": {},
     "output_type": "display_data"
    },
    {
     "name": "stdout",
     "output_type": "stream",
     "text": [
      "[jovian] Updating notebook \"fkzaidi199/suicides-by-profession-in-india\" on https://jovian.com\u001b[0m\n",
      "[jovian] Committed successfully! https://jovian.com/fkzaidi199/suicides-by-profession-in-india\u001b[0m\n"
     ]
    },
    {
     "data": {
      "text/plain": [
       "'https://jovian.com/fkzaidi199/suicides-by-profession-in-india'"
      ]
     },
     "execution_count": 35,
     "metadata": {},
     "output_type": "execute_result"
    }
   ],
   "source": [
    "jovian.commit(file = 'suicides_df')"
   ]
  },
  {
   "cell_type": "markdown",
   "metadata": {},
   "source": [
    "## Asking and answering questions\n",
    "\n",
    "Now, let us ask a few interesting questions that can be answered using the dataset."
   ]
  },
  {
   "cell_type": "markdown",
   "metadata": {},
   "source": [
    "### **Q1:** Which year recorded the highest number of suicides? How has the number of suicides evolved over the years?"
   ]
  },
  {
   "cell_type": "markdown",
   "metadata": {},
   "source": [
    "For conducting our analysis, we will utilize the dataset \"suicides_cause_df\" which provides comprehensive yearwise data on suicides. This dataset offers a valuable resource to explore and understand the dynamics of suicide rates over time."
   ]
  },
  {
   "cell_type": "code",
   "execution_count": 36,
   "metadata": {},
   "outputs": [
    {
     "data": {
      "text/plain": [
       "Year\n",
       "2001    108506\n",
       "2002    110417\n",
       "2003    110851\n",
       "2004    113697\n",
       "2005    113914\n",
       "2006    118112\n",
       "2007    122637\n",
       "2008    125017\n",
       "2009    127151\n",
       "2010    134599\n",
       "2011    135585\n",
       "2012    120488\n",
       "Name: Total, dtype: int64"
      ]
     },
     "execution_count": 36,
     "metadata": {},
     "output_type": "execute_result"
    }
   ],
   "source": [
    "yearwise_suicides = suicides_cause_df.groupby('Year')['Total'].sum()\n",
    "yearwise_suicides"
   ]
  },
  {
   "cell_type": "code",
   "execution_count": 37,
   "metadata": {},
   "outputs": [
    {
     "name": "stdout",
     "output_type": "stream",
     "text": [
      "Year 2011 witnessed a maximum of 135585 suicides during 2001-2012.\n"
     ]
    }
   ],
   "source": [
    "peak_year = yearwise_suicides.max()\n",
    "year1 = yearwise_suicides.idxmax()\n",
    "print('Year {} witnessed a maximum of {} suicides during 2001-2012.'.format(year1, peak_year))"
   ]
  },
  {
   "cell_type": "markdown",
   "metadata": {},
   "source": [
    "Let's draw a chart to see the trend of suicides over the years"
   ]
  },
  {
   "cell_type": "code",
   "execution_count": 38,
   "metadata": {
    "scrolled": false
   },
   "outputs": [
    {
     "data": {
      "image/png": "[encoded data removed]",
      "text/plain": [
       "<Figure size 1368x648 with 1 Axes>"
      ]
     },
     "metadata": {
      "needs_background": "light"
     },
     "output_type": "display_data"
    }
   ],
   "source": [
    "plt.figure(figsize = (19,9))\n",
    "yearwise_suicides.plot(kind='line')\n",
    "\n",
    "plt.xlabel('Year')\n",
    "plt.ylabel('Number of Suicides')\n",
    "plt.title('Number of Suicides per Year (2001-2012)')\n",
    "\n",
    "plt.show()"
   ]
  },
  {
   "cell_type": "markdown",
   "metadata": {},
   "source": [
    "The data clearly indicates a notable increase in the number of suicides from 2001 to 2011. This upward trend suggests a concerning rise in the incidence of suicides over the analyzed time period. The data provides valuable insights into the evolving landscape of mental health and highlights the need for comprehensive strategies to address this pressing issue."
   ]
  },
  {
   "cell_type": "markdown",
   "metadata": {},
   "source": [
    "### **Q2:** Which states witnessed the highest number of suicides over the period? "
   ]
  },
  {
   "cell_type": "code",
   "execution_count": 67,
   "metadata": {},
   "outputs": [
    {
     "data": {
      "text/plain": [
       "State\n",
       "A & N ISLANDS          1623\n",
       "ANDHRA PRADESH       162820\n",
       "ARUNACHAL PRADESH      1328\n",
       "ASSAM                 34469\n",
       "BIHAR                  9245\n",
       "CHANDIGARH             1034\n",
       "CHHATTISGARH          60495\n",
       "D & N HAVELI            686\n",
       "DAMAN & DIU             279\n",
       "DELHI (UT)            16857\n",
       "GOA                    3475\n",
       "GUJARAT               66177\n",
       "HARYANA               29437\n",
       "HIMACHAL PRADESH       5319\n",
       "JAMMU & KASHMIR        2968\n",
       "JHARKHAND              9950\n",
       "KARNATAKA            146965\n",
       "KERALA               107936\n",
       "LAKSHADWEEP              10\n",
       "MADHYA PRADESH        90307\n",
       "MAHARASHTRA          180389\n",
       "MANIPUR                 421\n",
       "MEGHALAYA              1086\n",
       "MIZORAM                 834\n",
       "NAGALAND                347\n",
       "ODISHA                53448\n",
       "PUDUCHERRY             6429\n",
       "PUNJAB                 9270\n",
       "RAJASTHAN             51027\n",
       "SIKKIM                 1924\n",
       "TAMIL NADU           163813\n",
       "TRIPURA                9194\n",
       "UTTAR PRADESH         46680\n",
       "UTTARAKHAND            3702\n",
       "WEST BENGAL          161030\n",
       "Name: Total, dtype: int64"
      ]
     },
     "execution_count": 67,
     "metadata": {},
     "output_type": "execute_result"
    }
   ],
   "source": [
    "suicide_state = suicides_cause_df.groupby('State')['Total'].sum()\n",
    "suicide_state"
   ]
  },
  {
   "cell_type": "code",
   "execution_count": 40,
   "metadata": {},
   "outputs": [
    {
     "data": {
      "image/png": "[encoded data removed]",
      "text/plain": [
       "<Figure size 1296x648 with 1 Axes>"
      ]
     },
     "metadata": {
      "needs_background": "light"
     },
     "output_type": "display_data"
    }
   ],
   "source": [
    "plt.figure(figsize = (18,9))\n",
    "\n",
    "sns.barplot(x=suicide_state.index, y=suicide_state.values)\n",
    "\n",
    "plt.xticks(rotation = 90)\n",
    "plt.title('Suicides in different states over the years 2001-2012')\n",
    "plt.xlabel('State')\n",
    "plt.ylabel('No. of suicides')\n",
    "\n",
    "plt.show()"
   ]
  },
  {
   "cell_type": "code",
   "execution_count": 41,
   "metadata": {},
   "outputs": [
    {
     "name": "stdout",
     "output_type": "stream",
     "text": [
      "The maximum number of suicides were commited in MAHARASHTRA. MAHARASHTRA witnessed a total of 180389 suicides over the years 2001-2012.\n"
     ]
    }
   ],
   "source": [
    "max_suicide_state = suicide_state.max()\n",
    "state1 = suicide_state.idxmax()\n",
    "\n",
    "print('The maximum number of suicides were commited in {}. {} witnessed a total of {} suicides over the years 2001-2012.'.format(state1,state1, max_suicide_state))"
   ]
  },
  {
   "cell_type": "markdown",
   "metadata": {},
   "source": [
    "Top 5 states who witnessed most number of suicides are:"
   ]
  },
  {
   "cell_type": "code",
   "execution_count": 42,
   "metadata": {},
   "outputs": [
    {
     "data": {
      "text/plain": [
       "State\n",
       "MAHARASHTRA       180389\n",
       "TAMIL NADU        163813\n",
       "ANDHRA PRADESH    162820\n",
       "WEST BENGAL       161030\n",
       "KARNATAKA         146965\n",
       "Name: Total, dtype: int64"
      ]
     },
     "execution_count": 42,
     "metadata": {},
     "output_type": "execute_result"
    }
   ],
   "source": [
    "top_5states = suicide_state.sort_values(ascending = False).head(5)\n",
    "top_5states"
   ]
  },
  {
   "cell_type": "markdown",
   "metadata": {},
   "source": [
    "The bar chart illustrates the states that recorded the highest number of suicides during the period from 2001 to 2012. Among these states, Maharashtra reported the highest number, with a total of 180,389 suicides. Following closely behind are Tamil Nadu with 163,813 suicides, Andhra Pradesh with 162,820 suicides, West Bengal with 161,030 suicides, and Karnataka with 146,965 suicides.\n",
    "\n",
    "This data provides valuable insights into the geographical distribution of suicides across different states in the given timeframe. It highlights specific regions where the prevalence of suicides appears to be relatively high. Understanding the variations in suicide rates among different states can inform targeted interventions, resource allocation, and the development of effective suicide prevention strategies at regional levels."
   ]
  },
  {
   "cell_type": "markdown",
   "metadata": {},
   "source": [
    "### **Q3:** What is the educational status of individuals who commit suicides? Is there a visible relation between higher education and lower suicide rates?\n",
    "\n",
    "To answer these questions, we can analyze the educational status of individuals who have committed suicides and explore any potential relationship between educational attainment and suicide rates."
   ]
  },
  {
   "cell_type": "code",
   "execution_count": 43,
   "metadata": {},
   "outputs": [
    {
     "data": {
      "text/html": [
       "<div>\n",
       "<style scoped>\n",
       "    .dataframe tbody tr th:only-of-type {\n",
       "        vertical-align: middle;\n",
       "    }\n",
       "\n",
       "    .dataframe tbody tr th {\n",
       "        vertical-align: top;\n",
       "    }\n",
       "\n",
       "    .dataframe thead th {\n",
       "        text-align: right;\n",
       "    }\n",
       "</style>\n",
       "<table border=\"1\" class=\"dataframe\">\n",
       "  <thead>\n",
       "    <tr style=\"text-align: right;\">\n",
       "      <th></th>\n",
       "      <th>State</th>\n",
       "      <th>Year</th>\n",
       "      <th>Type</th>\n",
       "      <th>Gender</th>\n",
       "      <th>Age_group</th>\n",
       "      <th>Total</th>\n",
       "    </tr>\n",
       "  </thead>\n",
       "  <tbody>\n",
       "    <tr>\n",
       "      <th>70</th>\n",
       "      <td>A &amp; N ISLANDS</td>\n",
       "      <td>2004</td>\n",
       "      <td>Hr. Secondary/Intermediate/Pre-Universit</td>\n",
       "      <td>Female</td>\n",
       "      <td>0-100+</td>\n",
       "      <td>5</td>\n",
       "    </tr>\n",
       "    <tr>\n",
       "      <th>196</th>\n",
       "      <td>A &amp; N ISLANDS</td>\n",
       "      <td>2003</td>\n",
       "      <td>Hr. Secondary/Intermediate/Pre-Universit</td>\n",
       "      <td>Male</td>\n",
       "      <td>0-100+</td>\n",
       "      <td>4</td>\n",
       "    </tr>\n",
       "    <tr>\n",
       "      <th>197</th>\n",
       "      <td>A &amp; N ISLANDS</td>\n",
       "      <td>2003</td>\n",
       "      <td>Middle</td>\n",
       "      <td>Male</td>\n",
       "      <td>0-100+</td>\n",
       "      <td>42</td>\n",
       "    </tr>\n",
       "    <tr>\n",
       "      <th>209</th>\n",
       "      <td>A &amp; N ISLANDS</td>\n",
       "      <td>2004</td>\n",
       "      <td>Hr. Secondary/Intermediate/Pre-Universit</td>\n",
       "      <td>Male</td>\n",
       "      <td>0-100+</td>\n",
       "      <td>9</td>\n",
       "    </tr>\n",
       "    <tr>\n",
       "      <th>224</th>\n",
       "      <td>A &amp; N ISLANDS</td>\n",
       "      <td>2005</td>\n",
       "      <td>Middle</td>\n",
       "      <td>Male</td>\n",
       "      <td>0-100+</td>\n",
       "      <td>37</td>\n",
       "    </tr>\n",
       "    <tr>\n",
       "      <th>...</th>\n",
       "      <td>...</td>\n",
       "      <td>...</td>\n",
       "      <td>...</td>\n",
       "      <td>...</td>\n",
       "      <td>...</td>\n",
       "      <td>...</td>\n",
       "    </tr>\n",
       "    <tr>\n",
       "      <th>237265</th>\n",
       "      <td>UTTARAKHAND</td>\n",
       "      <td>2011</td>\n",
       "      <td>Graduate</td>\n",
       "      <td>Female</td>\n",
       "      <td>0-100+</td>\n",
       "      <td>10</td>\n",
       "    </tr>\n",
       "    <tr>\n",
       "      <th>237266</th>\n",
       "      <td>UTTARAKHAND</td>\n",
       "      <td>2011</td>\n",
       "      <td>Hr. Secondary/Intermediate/Pre-Universit</td>\n",
       "      <td>Female</td>\n",
       "      <td>0-100+</td>\n",
       "      <td>16</td>\n",
       "    </tr>\n",
       "    <tr>\n",
       "      <th>237267</th>\n",
       "      <td>UTTARAKHAND</td>\n",
       "      <td>2011</td>\n",
       "      <td>Post Graduate and Above</td>\n",
       "      <td>Male</td>\n",
       "      <td>0-100+</td>\n",
       "      <td>4</td>\n",
       "    </tr>\n",
       "    <tr>\n",
       "      <th>237367</th>\n",
       "      <td>WEST BENGAL</td>\n",
       "      <td>2004</td>\n",
       "      <td>Hr. Secondary/Intermediate/Pre-Universit</td>\n",
       "      <td>Male</td>\n",
       "      <td>0-100+</td>\n",
       "      <td>873</td>\n",
       "    </tr>\n",
       "    <tr>\n",
       "      <th>237368</th>\n",
       "      <td>WEST BENGAL</td>\n",
       "      <td>2004</td>\n",
       "      <td>Matriculate/Secondary</td>\n",
       "      <td>Male</td>\n",
       "      <td>0-100+</td>\n",
       "      <td>1130</td>\n",
       "    </tr>\n",
       "  </tbody>\n",
       "</table>\n",
       "<p>6176 rows × 6 columns</p>\n",
       "</div>"
      ],
      "text/plain": [
       "                State  Year                                      Type  Gender  \\\n",
       "70      A & N ISLANDS  2004  Hr. Secondary/Intermediate/Pre-Universit  Female   \n",
       "196     A & N ISLANDS  2003  Hr. Secondary/Intermediate/Pre-Universit    Male   \n",
       "197     A & N ISLANDS  2003                                    Middle    Male   \n",
       "209     A & N ISLANDS  2004  Hr. Secondary/Intermediate/Pre-Universit    Male   \n",
       "224     A & N ISLANDS  2005                                    Middle    Male   \n",
       "...               ...   ...                                       ...     ...   \n",
       "237265    UTTARAKHAND  2011                                  Graduate  Female   \n",
       "237266    UTTARAKHAND  2011  Hr. Secondary/Intermediate/Pre-Universit  Female   \n",
       "237267    UTTARAKHAND  2011                   Post Graduate and Above    Male   \n",
       "237367    WEST BENGAL  2004  Hr. Secondary/Intermediate/Pre-Universit    Male   \n",
       "237368    WEST BENGAL  2004                     Matriculate/Secondary    Male   \n",
       "\n",
       "       Age_group  Total  \n",
       "70        0-100+      5  \n",
       "196       0-100+      4  \n",
       "197       0-100+     42  \n",
       "209       0-100+      9  \n",
       "224       0-100+     37  \n",
       "...          ...    ...  \n",
       "237265    0-100+     10  \n",
       "237266    0-100+     16  \n",
       "237267    0-100+      4  \n",
       "237367    0-100+    873  \n",
       "237368    0-100+   1130  \n",
       "\n",
       "[6176 rows x 6 columns]"
      ]
     },
     "execution_count": 43,
     "metadata": {},
     "output_type": "execute_result"
    }
   ],
   "source": [
    "suicides_education_df = suicide_education_df[suicide_education_df.Total != 0]\n",
    "suicides_education_df"
   ]
  },
  {
   "cell_type": "code",
   "execution_count": 44,
   "metadata": {},
   "outputs": [
    {
     "data": {
      "text/plain": [
       "Type\n",
       "Diploma                                       42459\n",
       "Graduate                                      93822\n",
       "Hr. Secondary/Intermediate/Pre-Universit     356724\n",
       "Matriculate/Secondary                        769698\n",
       "Middle                                      1028913\n",
       "No Education                                 965271\n",
       "Post Graduate and Above                       22425\n",
       "Primary                                     1088481\n",
       "Name: Total, dtype: int64"
      ]
     },
     "execution_count": 44,
     "metadata": {},
     "output_type": "execute_result"
    }
   ],
   "source": [
    "education_suicides = suicides_education_df.groupby('Type').Total.sum()\n",
    "education_suicides"
   ]
  },
  {
   "cell_type": "code",
   "execution_count": 45,
   "metadata": {
    "scrolled": false
   },
   "outputs": [
    {
     "data": {
      "image/png": "[encoded data removed]",
      "text/plain": [
       "<Figure size 1296x648 with 1 Axes>"
      ]
     },
     "metadata": {
      "needs_background": "light"
     },
     "output_type": "display_data"
    }
   ],
   "source": [
    "plt.figure(figsize = (18,9))\n",
    "\n",
    "sns.barplot(x=education_suicides.index, y=education_suicides)\n",
    "\n",
    "plt.xticks(rotation = 90)\n",
    "plt.title('Education status of people who committed suicides')\n",
    "plt.xlabel('Educational status')\n",
    "plt.ylabel('No. of suicides')\n",
    "\n",
    "plt.show();"
   ]
  },
  {
   "cell_type": "markdown",
   "metadata": {},
   "source": [
    "Low or no education categories consistently showed a high number of suicides throughout the years, while individuals with higher education reported a significantly lower number of suicides. This trend was particularly notable among those with a postgraduate or above education level, where the number of suicides was exceptionally low. Possible factors contributing to this pattern include increased income associated with education and heightened awareness regarding mental health issues."
   ]
  },
  {
   "cell_type": "code",
   "execution_count": 46,
   "metadata": {},
   "outputs": [
    {
     "data": {
      "application/javascript": [
       "window.require && require([\"base/js/namespace\"],function(Jupyter){Jupyter.notebook.save_checkpoint()})"
      ],
      "text/plain": [
       "<IPython.core.display.Javascript object>"
      ]
     },
     "metadata": {},
     "output_type": "display_data"
    },
    {
     "name": "stdout",
     "output_type": "stream",
     "text": [
      "[jovian] Updating notebook \"fkzaidi199/suicides-by-profession-in-india\" on https://jovian.com\u001b[0m\n",
      "[jovian] Committed successfully! https://jovian.com/fkzaidi199/suicides-by-profession-in-india\u001b[0m\n"
     ]
    },
    {
     "data": {
      "text/plain": [
       "'https://jovian.com/fkzaidi199/suicides-by-profession-in-india'"
      ]
     },
     "execution_count": 46,
     "metadata": {},
     "output_type": "execute_result"
    }
   ],
   "source": [
    "jovian.commit()"
   ]
  },
  {
   "cell_type": "markdown",
   "metadata": {},
   "source": [
    "### **Q4:** Can we observe any patterns or changes in the gender distribution of individuals who committed suicides over the years?"
   ]
  },
  {
   "cell_type": "code",
   "execution_count": 47,
   "metadata": {},
   "outputs": [],
   "source": [
    "suicides_male_df = suicides_cause_df.drop(columns = ['State', 'Type', 'Age_group'])"
   ]
  },
  {
   "cell_type": "code",
   "execution_count": 48,
   "metadata": {},
   "outputs": [
    {
     "data": {
      "text/html": [
       "<div>\n",
       "<style scoped>\n",
       "    .dataframe tbody tr th:only-of-type {\n",
       "        vertical-align: middle;\n",
       "    }\n",
       "\n",
       "    .dataframe tbody tr th {\n",
       "        vertical-align: top;\n",
       "    }\n",
       "\n",
       "    .dataframe thead th {\n",
       "        text-align: right;\n",
       "    }\n",
       "</style>\n",
       "<table border=\"1\" class=\"dataframe\">\n",
       "  <thead>\n",
       "    <tr style=\"text-align: right;\">\n",
       "      <th></th>\n",
       "      <th>Total</th>\n",
       "    </tr>\n",
       "    <tr>\n",
       "      <th>Year</th>\n",
       "      <th></th>\n",
       "    </tr>\n",
       "  </thead>\n",
       "  <tbody>\n",
       "    <tr>\n",
       "      <th>2001</th>\n",
       "      <td>66314</td>\n",
       "    </tr>\n",
       "    <tr>\n",
       "      <th>2002</th>\n",
       "      <td>69332</td>\n",
       "    </tr>\n",
       "    <tr>\n",
       "      <th>2003</th>\n",
       "      <td>70221</td>\n",
       "    </tr>\n",
       "    <tr>\n",
       "      <th>2004</th>\n",
       "      <td>72651</td>\n",
       "    </tr>\n",
       "    <tr>\n",
       "      <th>2005</th>\n",
       "      <td>72916</td>\n",
       "    </tr>\n",
       "    <tr>\n",
       "      <th>2006</th>\n",
       "      <td>75702</td>\n",
       "    </tr>\n",
       "    <tr>\n",
       "      <th>2007</th>\n",
       "      <td>79295</td>\n",
       "    </tr>\n",
       "    <tr>\n",
       "      <th>2008</th>\n",
       "      <td>80544</td>\n",
       "    </tr>\n",
       "    <tr>\n",
       "      <th>2009</th>\n",
       "      <td>81471</td>\n",
       "    </tr>\n",
       "    <tr>\n",
       "      <th>2010</th>\n",
       "      <td>87180</td>\n",
       "    </tr>\n",
       "    <tr>\n",
       "      <th>2011</th>\n",
       "      <td>87839</td>\n",
       "    </tr>\n",
       "    <tr>\n",
       "      <th>2012</th>\n",
       "      <td>79773</td>\n",
       "    </tr>\n",
       "  </tbody>\n",
       "</table>\n",
       "</div>"
      ],
      "text/plain": [
       "      Total\n",
       "Year       \n",
       "2001  66314\n",
       "2002  69332\n",
       "2003  70221\n",
       "2004  72651\n",
       "2005  72916\n",
       "2006  75702\n",
       "2007  79295\n",
       "2008  80544\n",
       "2009  81471\n",
       "2010  87180\n",
       "2011  87839\n",
       "2012  79773"
      ]
     },
     "execution_count": 48,
     "metadata": {},
     "output_type": "execute_result"
    }
   ],
   "source": [
    "suicides_male_df1 = suicides_male_df[suicides_male_df.Gender == 'Male'].groupby('Year').sum()\n",
    "suicides_male_df1"
   ]
  },
  {
   "cell_type": "code",
   "execution_count": 49,
   "metadata": {},
   "outputs": [
    {
     "data": {
      "text/html": [
       "<div>\n",
       "<style scoped>\n",
       "    .dataframe tbody tr th:only-of-type {\n",
       "        vertical-align: middle;\n",
       "    }\n",
       "\n",
       "    .dataframe tbody tr th {\n",
       "        vertical-align: top;\n",
       "    }\n",
       "\n",
       "    .dataframe thead th {\n",
       "        text-align: right;\n",
       "    }\n",
       "</style>\n",
       "<table border=\"1\" class=\"dataframe\">\n",
       "  <thead>\n",
       "    <tr style=\"text-align: right;\">\n",
       "      <th></th>\n",
       "      <th>Total</th>\n",
       "    </tr>\n",
       "    <tr>\n",
       "      <th>Year</th>\n",
       "      <th></th>\n",
       "    </tr>\n",
       "  </thead>\n",
       "  <tbody>\n",
       "    <tr>\n",
       "      <th>2001</th>\n",
       "      <td>42192</td>\n",
       "    </tr>\n",
       "    <tr>\n",
       "      <th>2002</th>\n",
       "      <td>41085</td>\n",
       "    </tr>\n",
       "    <tr>\n",
       "      <th>2003</th>\n",
       "      <td>40630</td>\n",
       "    </tr>\n",
       "    <tr>\n",
       "      <th>2004</th>\n",
       "      <td>41046</td>\n",
       "    </tr>\n",
       "    <tr>\n",
       "      <th>2005</th>\n",
       "      <td>40998</td>\n",
       "    </tr>\n",
       "    <tr>\n",
       "      <th>2006</th>\n",
       "      <td>42410</td>\n",
       "    </tr>\n",
       "    <tr>\n",
       "      <th>2007</th>\n",
       "      <td>43342</td>\n",
       "    </tr>\n",
       "    <tr>\n",
       "      <th>2008</th>\n",
       "      <td>44473</td>\n",
       "    </tr>\n",
       "    <tr>\n",
       "      <th>2009</th>\n",
       "      <td>45680</td>\n",
       "    </tr>\n",
       "    <tr>\n",
       "      <th>2010</th>\n",
       "      <td>47419</td>\n",
       "    </tr>\n",
       "    <tr>\n",
       "      <th>2011</th>\n",
       "      <td>47746</td>\n",
       "    </tr>\n",
       "    <tr>\n",
       "      <th>2012</th>\n",
       "      <td>40715</td>\n",
       "    </tr>\n",
       "  </tbody>\n",
       "</table>\n",
       "</div>"
      ],
      "text/plain": [
       "      Total\n",
       "Year       \n",
       "2001  42192\n",
       "2002  41085\n",
       "2003  40630\n",
       "2004  41046\n",
       "2005  40998\n",
       "2006  42410\n",
       "2007  43342\n",
       "2008  44473\n",
       "2009  45680\n",
       "2010  47419\n",
       "2011  47746\n",
       "2012  40715"
      ]
     },
     "execution_count": 49,
     "metadata": {},
     "output_type": "execute_result"
    }
   ],
   "source": [
    "suicides_female_df1 = suicides_male_df[suicides_male_df.Gender == 'Female'].groupby('Year').sum()\n",
    "suicides_female_df1"
   ]
  },
  {
   "cell_type": "code",
   "execution_count": 50,
   "metadata": {
    "scrolled": false
   },
   "outputs": [
    {
     "data": {
      "image/png": "[encoded data removed]",
      "text/plain": [
       "<Figure size 1296x648 with 1 Axes>"
      ]
     },
     "metadata": {
      "needs_background": "light"
     },
     "output_type": "display_data"
    }
   ],
   "source": [
    "import matplotlib.pyplot as plt\n",
    "import seaborn as sns\n",
    "\n",
    "plt.figure(figsize=(18, 9))\n",
    "\n",
    "plt.plot(suicides_male_df1.index, suicides_male_df1, 'b-')\n",
    "plt.plot(suicides_female_df1.index, suicides_female_df1, 'r--')\n",
    "\n",
    "plt.xlabel('Year')\n",
    "plt.ylabel('No. of suicides')\n",
    "plt.title('Number of suicides (by gender)')\n",
    "plt.legend(['Male', 'Female'])\n",
    "\n",
    "plt.show()\n"
   ]
  },
  {
   "cell_type": "markdown",
   "metadata": {},
   "source": [
    "The line chart represents the number of suicides per year categorized by gender. The data shows the yearly count of suicides for males and females from 2001 to 2012.\n",
    "\n",
    "For male suicides, there is a general upward trend observed from 2001 to 2010, with a slight decline in 2011 and 2012. The numbers steadily increase from 66,314 in 2001 to reach a peak of 87,839 in 2011, before decreasing to 79,773 in 2012.\n",
    "\n",
    "In contrast, the trend for female suicides exhibits a relatively stable pattern with some fluctuations. The numbers remain relatively consistent, ranging from 41,192 in 2001 to 47,746 in 2011, before decreasing to 40,715 in 2012.\n",
    "\n",
    "Overall, the data suggests that male suicides consistently outnumber female suicides throughout the analyzed period."
   ]
  },
  {
   "cell_type": "code",
   "execution_count": 51,
   "metadata": {},
   "outputs": [
    {
     "data": {
      "application/javascript": [
       "window.require && require([\"base/js/namespace\"],function(Jupyter){Jupyter.notebook.save_checkpoint()})"
      ],
      "text/plain": [
       "<IPython.core.display.Javascript object>"
      ]
     },
     "metadata": {},
     "output_type": "display_data"
    },
    {
     "name": "stdout",
     "output_type": "stream",
     "text": [
      "[jovian] Updating notebook \"fkzaidi199/suicides-by-profession-in-india\" on https://jovian.com\u001b[0m\n",
      "[jovian] Committed successfully! https://jovian.com/fkzaidi199/suicides-by-profession-in-india\u001b[0m\n"
     ]
    },
    {
     "data": {
      "text/plain": [
       "'https://jovian.com/fkzaidi199/suicides-by-profession-in-india'"
      ]
     },
     "execution_count": 51,
     "metadata": {},
     "output_type": "execute_result"
    }
   ],
   "source": [
    "jovian.commit()"
   ]
  },
  {
   "cell_type": "markdown",
   "metadata": {},
   "source": [
    "### **Q5:** What is the count of suicides per age group? Additionally, are there any noteworthy observations or trends apparent from the graph?"
   ]
  },
  {
   "cell_type": "code",
   "execution_count": 63,
   "metadata": {},
   "outputs": [
    {
     "data": {
      "text/plain": [
       "Age_group  Gender\n",
       "0-14       Female     16430\n",
       "           Male       16255\n",
       "15-29      Female    233007\n",
       "           Male      276769\n",
       "30-44      Female    158394\n",
       "           Male      330319\n",
       "45-59      Female     77213\n",
       "           Male      217120\n",
       "60+        Female     32692\n",
       "           Male       82775\n",
       "Name: Total, dtype: int64"
      ]
     },
     "execution_count": 63,
     "metadata": {},
     "output_type": "execute_result"
    }
   ],
   "source": [
    "count_age_group = suicides_cause_df.groupby(['Age_group','Gender'])['Total'].sum()\n",
    "count_age_group"
   ]
  },
  {
   "cell_type": "code",
   "execution_count": 64,
   "metadata": {},
   "outputs": [
    {
     "data": {
      "text/html": [
       "<div>\n",
       "<style scoped>\n",
       "    .dataframe tbody tr th:only-of-type {\n",
       "        vertical-align: middle;\n",
       "    }\n",
       "\n",
       "    .dataframe tbody tr th {\n",
       "        vertical-align: top;\n",
       "    }\n",
       "\n",
       "    .dataframe thead th {\n",
       "        text-align: right;\n",
       "    }\n",
       "</style>\n",
       "<table border=\"1\" class=\"dataframe\">\n",
       "  <thead>\n",
       "    <tr style=\"text-align: right;\">\n",
       "      <th>Gender</th>\n",
       "      <th>Female</th>\n",
       "      <th>Male</th>\n",
       "    </tr>\n",
       "    <tr>\n",
       "      <th>Age_group</th>\n",
       "      <th></th>\n",
       "      <th></th>\n",
       "    </tr>\n",
       "  </thead>\n",
       "  <tbody>\n",
       "    <tr>\n",
       "      <th>0-14</th>\n",
       "      <td>16430</td>\n",
       "      <td>16255</td>\n",
       "    </tr>\n",
       "    <tr>\n",
       "      <th>15-29</th>\n",
       "      <td>233007</td>\n",
       "      <td>276769</td>\n",
       "    </tr>\n",
       "    <tr>\n",
       "      <th>30-44</th>\n",
       "      <td>158394</td>\n",
       "      <td>330319</td>\n",
       "    </tr>\n",
       "    <tr>\n",
       "      <th>45-59</th>\n",
       "      <td>77213</td>\n",
       "      <td>217120</td>\n",
       "    </tr>\n",
       "    <tr>\n",
       "      <th>60+</th>\n",
       "      <td>32692</td>\n",
       "      <td>82775</td>\n",
       "    </tr>\n",
       "  </tbody>\n",
       "</table>\n",
       "</div>"
      ],
      "text/plain": [
       "Gender     Female    Male\n",
       "Age_group                \n",
       "0-14        16430   16255\n",
       "15-29      233007  276769\n",
       "30-44      158394  330319\n",
       "45-59       77213  217120\n",
       "60+         32692   82775"
      ]
     },
     "execution_count": 64,
     "metadata": {},
     "output_type": "execute_result"
    }
   ],
   "source": [
    "pivot_table = count_age_group.unstack()\n",
    "pivot_table"
   ]
  },
  {
   "cell_type": "code",
   "execution_count": 65,
   "metadata": {
    "scrolled": true
   },
   "outputs": [
    {
     "data": {
      "text/html": [
       "<div>\n",
       "<style scoped>\n",
       "    .dataframe tbody tr th:only-of-type {\n",
       "        vertical-align: middle;\n",
       "    }\n",
       "\n",
       "    .dataframe tbody tr th {\n",
       "        vertical-align: top;\n",
       "    }\n",
       "\n",
       "    .dataframe thead th {\n",
       "        text-align: right;\n",
       "    }\n",
       "</style>\n",
       "<table border=\"1\" class=\"dataframe\">\n",
       "  <thead>\n",
       "    <tr style=\"text-align: right;\">\n",
       "      <th>Gender</th>\n",
       "      <th>Female</th>\n",
       "      <th>Male</th>\n",
       "      <th>Male/female_ratio</th>\n",
       "    </tr>\n",
       "    <tr>\n",
       "      <th>Age_group</th>\n",
       "      <th></th>\n",
       "      <th></th>\n",
       "      <th></th>\n",
       "    </tr>\n",
       "  </thead>\n",
       "  <tbody>\n",
       "    <tr>\n",
       "      <th>0-14</th>\n",
       "      <td>16430</td>\n",
       "      <td>16255</td>\n",
       "      <td>0.989349</td>\n",
       "    </tr>\n",
       "    <tr>\n",
       "      <th>15-29</th>\n",
       "      <td>233007</td>\n",
       "      <td>276769</td>\n",
       "      <td>1.187814</td>\n",
       "    </tr>\n",
       "    <tr>\n",
       "      <th>30-44</th>\n",
       "      <td>158394</td>\n",
       "      <td>330319</td>\n",
       "      <td>2.085426</td>\n",
       "    </tr>\n",
       "    <tr>\n",
       "      <th>45-59</th>\n",
       "      <td>77213</td>\n",
       "      <td>217120</td>\n",
       "      <td>2.811962</td>\n",
       "    </tr>\n",
       "    <tr>\n",
       "      <th>60+</th>\n",
       "      <td>32692</td>\n",
       "      <td>82775</td>\n",
       "      <td>2.531965</td>\n",
       "    </tr>\n",
       "  </tbody>\n",
       "</table>\n",
       "</div>"
      ],
      "text/plain": [
       "Gender     Female    Male  Male/female_ratio\n",
       "Age_group                                   \n",
       "0-14        16430   16255           0.989349\n",
       "15-29      233007  276769           1.187814\n",
       "30-44      158394  330319           2.085426\n",
       "45-59       77213  217120           2.811962\n",
       "60+         32692   82775           2.531965"
      ]
     },
     "execution_count": 65,
     "metadata": {},
     "output_type": "execute_result"
    }
   ],
   "source": [
    "pivot_table['Male/female_ratio'] = pivot_table.Male/pivot_table.Female\n",
    "pivot_table"
   ]
  },
  {
   "cell_type": "code",
   "execution_count": 66,
   "metadata": {},
   "outputs": [
    {
     "data": {
      "image/png": "[encoded data removed]",
      "text/plain": [
       "<Figure size 648x360 with 1 Axes>"
      ]
     },
     "metadata": {
      "needs_background": "light"
     },
     "output_type": "display_data"
    },
    {
     "data": {
      "image/png": "[encoded data removed]",
      "text/plain": [
       "<Figure size 648x360 with 1 Axes>"
      ]
     },
     "metadata": {
      "needs_background": "light"
     },
     "output_type": "display_data"
    }
   ],
   "source": [
    "# Create the bar chart\n",
    "sns.lineplot(data=pivot_table, x='Age_group', y='Male/female_ratio')\n",
    "pivot_table = pivot_table.drop(columns = ['Male/female_ratio'])\n",
    "pivot_table.plot(kind='bar', stacked=True)\n",
    "\n",
    "# Set the chart title and axis labels\n",
    "plt.title('Suicides by Age Group and Gender')\n",
    "plt.xlabel('Age Group')\n",
    "plt.ylabel('Number of Suicides')\n",
    "\n",
    "# Display the chart\n",
    "plt.show()"
   ]
  },
  {
   "cell_type": "markdown",
   "metadata": {},
   "source": [
    "The graph clearly illustrates that as the age of individuals increases, the ratio of male to female suicides also increases. This indicates a higher likelihood of men committing suicide compared to women. In other words, as individuals get older, the disparity between male and female suicide rates becomes more pronounced, with men being more prone to suicide.\n",
    "\n",
    "The increasing trend in the male-to-female ratio suggests that factors influencing suicide may differ between genders and evolve over the course of one's life. Understanding these underlying factors becomes crucial in developing targeted interventions and support systems to address the higher risk of suicide among men, particularly as they age.\n",
    "\n",
    "It is essential to emphasize that the graph highlights a correlation between age, gender, and suicide rates, but it does not provide a complete understanding of the complex reasons behind these patterns. Additional research and analysis are necessary to delve deeper into the underlying causes and potential contributing factors to the observed gender disparity in suicide rates."
   ]
  },
  {
   "cell_type": "code",
   "execution_count": 56,
   "metadata": {
    "scrolled": false
   },
   "outputs": [
    {
     "data": {
      "application/javascript": [
       "window.require && require([\"base/js/namespace\"],function(Jupyter){Jupyter.notebook.save_checkpoint()})"
      ],
      "text/plain": [
       "<IPython.core.display.Javascript object>"
      ]
     },
     "metadata": {},
     "output_type": "display_data"
    },
    {
     "name": "stdout",
     "output_type": "stream",
     "text": [
      "[jovian] Updating notebook \"fkzaidi199/suicides-by-profession-in-india\" on https://jovian.com\u001b[0m\n",
      "[jovian] Committed successfully! https://jovian.com/fkzaidi199/suicides-by-profession-in-india\u001b[0m\n"
     ]
    },
    {
     "data": {
      "text/plain": [
       "'https://jovian.com/fkzaidi199/suicides-by-profession-in-india'"
      ]
     },
     "execution_count": 56,
     "metadata": {},
     "output_type": "execute_result"
    }
   ],
   "source": [
    "jovian.commit()"
   ]
  },
  {
   "cell_type": "markdown",
   "metadata": {},
   "source": [
    "### **Q5:** What are the primary methods of suicide chosen by males and females? Are there any notable differences between the methods adopted by each gender?"
   ]
  },
  {
   "cell_type": "code",
   "execution_count": 57,
   "metadata": {
    "scrolled": false
   },
   "outputs": [
    {
     "data": {
      "text/html": [
       "<div>\n",
       "<style scoped>\n",
       "    .dataframe tbody tr th:only-of-type {\n",
       "        vertical-align: middle;\n",
       "    }\n",
       "\n",
       "    .dataframe tbody tr th {\n",
       "        vertical-align: top;\n",
       "    }\n",
       "\n",
       "    .dataframe thead th {\n",
       "        text-align: right;\n",
       "    }\n",
       "</style>\n",
       "<table border=\"1\" class=\"dataframe\">\n",
       "  <thead>\n",
       "    <tr style=\"text-align: right;\">\n",
       "      <th></th>\n",
       "      <th>State</th>\n",
       "      <th>Year</th>\n",
       "      <th>Type</th>\n",
       "      <th>Gender</th>\n",
       "      <th>Age_group</th>\n",
       "      <th>Total</th>\n",
       "    </tr>\n",
       "  </thead>\n",
       "  <tbody>\n",
       "    <tr>\n",
       "      <th>9</th>\n",
       "      <td>A &amp; N ISLANDS</td>\n",
       "      <td>2001</td>\n",
       "      <td>By Fire/Self Immolation</td>\n",
       "      <td>Female</td>\n",
       "      <td>30-44</td>\n",
       "      <td>1</td>\n",
       "    </tr>\n",
       "    <tr>\n",
       "      <th>10</th>\n",
       "      <td>A &amp; N ISLANDS</td>\n",
       "      <td>2001</td>\n",
       "      <td>By Hanging</td>\n",
       "      <td>Female</td>\n",
       "      <td>45-59</td>\n",
       "      <td>4</td>\n",
       "    </tr>\n",
       "    <tr>\n",
       "      <th>32</th>\n",
       "      <td>A &amp; N ISLANDS</td>\n",
       "      <td>2002</td>\n",
       "      <td>By Hanging</td>\n",
       "      <td>Female</td>\n",
       "      <td>30-44</td>\n",
       "      <td>8</td>\n",
       "    </tr>\n",
       "    <tr>\n",
       "      <th>73</th>\n",
       "      <td>A &amp; N ISLANDS</td>\n",
       "      <td>2004</td>\n",
       "      <td>By Drowning</td>\n",
       "      <td>Male</td>\n",
       "      <td>45-59</td>\n",
       "      <td>1</td>\n",
       "    </tr>\n",
       "    <tr>\n",
       "      <th>120</th>\n",
       "      <td>A &amp; N ISLANDS</td>\n",
       "      <td>2003</td>\n",
       "      <td>By Other means (please specify)</td>\n",
       "      <td>Male</td>\n",
       "      <td>45-59</td>\n",
       "      <td>1</td>\n",
       "    </tr>\n",
       "    <tr>\n",
       "      <th>...</th>\n",
       "      <td>...</td>\n",
       "      <td>...</td>\n",
       "      <td>...</td>\n",
       "      <td>...</td>\n",
       "      <td>...</td>\n",
       "      <td>...</td>\n",
       "    </tr>\n",
       "    <tr>\n",
       "      <th>237478</th>\n",
       "      <td>WEST BENGAL</td>\n",
       "      <td>2010</td>\n",
       "      <td>By Jumping from (Building)</td>\n",
       "      <td>Male</td>\n",
       "      <td>45-59</td>\n",
       "      <td>31</td>\n",
       "    </tr>\n",
       "    <tr>\n",
       "      <th>237480</th>\n",
       "      <td>WEST BENGAL</td>\n",
       "      <td>2010</td>\n",
       "      <td>By Other means (please specify)</td>\n",
       "      <td>Female</td>\n",
       "      <td>60+</td>\n",
       "      <td>70</td>\n",
       "    </tr>\n",
       "    <tr>\n",
       "      <th>237499</th>\n",
       "      <td>WEST BENGAL</td>\n",
       "      <td>2011</td>\n",
       "      <td>By Fire/Self Immolation</td>\n",
       "      <td>Female</td>\n",
       "      <td>30-44</td>\n",
       "      <td>84</td>\n",
       "    </tr>\n",
       "    <tr>\n",
       "      <th>237500</th>\n",
       "      <td>WEST BENGAL</td>\n",
       "      <td>2011</td>\n",
       "      <td>By Jumping off Moving Vehicles/Trains</td>\n",
       "      <td>Male</td>\n",
       "      <td>15-29</td>\n",
       "      <td>14</td>\n",
       "    </tr>\n",
       "    <tr>\n",
       "      <th>237510</th>\n",
       "      <td>WEST BENGAL</td>\n",
       "      <td>2012</td>\n",
       "      <td>By coming under running vehicles/trains</td>\n",
       "      <td>Male</td>\n",
       "      <td>0-14</td>\n",
       "      <td>1</td>\n",
       "    </tr>\n",
       "  </tbody>\n",
       "</table>\n",
       "<p>29337 rows × 6 columns</p>\n",
       "</div>"
      ],
      "text/plain": [
       "                State  Year                                     Type  Gender  \\\n",
       "9       A & N ISLANDS  2001                  By Fire/Self Immolation  Female   \n",
       "10      A & N ISLANDS  2001                               By Hanging  Female   \n",
       "32      A & N ISLANDS  2002                               By Hanging  Female   \n",
       "73      A & N ISLANDS  2004                              By Drowning    Male   \n",
       "120     A & N ISLANDS  2003          By Other means (please specify)    Male   \n",
       "...               ...   ...                                      ...     ...   \n",
       "237478    WEST BENGAL  2010               By Jumping from (Building)    Male   \n",
       "237480    WEST BENGAL  2010          By Other means (please specify)  Female   \n",
       "237499    WEST BENGAL  2011                  By Fire/Self Immolation  Female   \n",
       "237500    WEST BENGAL  2011    By Jumping off Moving Vehicles/Trains    Male   \n",
       "237510    WEST BENGAL  2012  By coming under running vehicles/trains    Male   \n",
       "\n",
       "       Age_group  Total  \n",
       "9          30-44      1  \n",
       "10         45-59      4  \n",
       "32         30-44      8  \n",
       "73         45-59      1  \n",
       "120        45-59      1  \n",
       "...          ...    ...  \n",
       "237478     45-59     31  \n",
       "237480       60+     70  \n",
       "237499     30-44     84  \n",
       "237500     15-29     14  \n",
       "237510      0-14      1  \n",
       "\n",
       "[29337 rows x 6 columns]"
      ]
     },
     "execution_count": 57,
     "metadata": {},
     "output_type": "execute_result"
    }
   ],
   "source": [
    "suicides_means_df = suicide_means_df[suicide_means_df.Total != 0]\n",
    "suicides_means_df"
   ]
  },
  {
   "cell_type": "code",
   "execution_count": 58,
   "metadata": {},
   "outputs": [
    {
     "data": {
      "image/png": "[encoded data removed]",
      "text/plain": [
       "<Figure size 648x360 with 1 Axes>"
      ]
     },
     "metadata": {
      "needs_background": "light"
     },
     "output_type": "display_data"
    },
    {
     "data": {
      "image/png": "[encoded data removed]",
      "text/plain": [
       "<Figure size 648x360 with 1 Axes>"
      ]
     },
     "metadata": {
      "needs_background": "light"
     },
     "output_type": "display_data"
    }
   ],
   "source": [
    "# Grouping the data by gender and suicide method, and calculating the sum of suicides for each method\n",
    "method_distribution = suicides_means_df.groupby(['Gender', 'Type'])['Total'].sum().reset_index()\n",
    "\n",
    "# Get the top 5 suicide methods for each gender\n",
    "top_methods = method_distribution.groupby('Gender').apply(lambda x: x.nlargest(5, 'Total')).reset_index(drop=True)\n",
    "\n",
    "# Pivot the data to create a matrix with genders as rows and the top 5 suicide methods as columns\n",
    "pivot_table = top_methods.pivot_table(values='Total', index='Gender', columns='Type', fill_value=0)\n",
    "\n",
    "# Plot stacked bar charts for each gender\n",
    "for gender in pivot_table.index:\n",
    "    pivot_table.loc[gender].plot(kind='bar', stacked=True)\n",
    "    plt.title(f'Top 5 Suicide Methods - {gender}')\n",
    "    plt.xlabel('Suicide Method')\n",
    "    plt.ylabel('Number of Suicides')\n",
    "    plt.legend(title='Suicide Method')\n",
    "    plt.show()"
   ]
  },
  {
   "cell_type": "markdown",
   "metadata": {},
   "source": [
    "The analysis of the data reveals that suicide by hanging is the predominant method chosen by both males and females. The second most commonly adopted means is consuming insecticides, which is consistent across genders. Additionally, consuming poison ranks third among both males and females. These findings suggest that there is no significant difference in the suicide methods chosen by males and females.\n",
    "\n",
    "By examining the dataset, we observe that the top three suicide methods remain consistent regardless of gender. This indicates that the choice of means for suicide does not vary significantly between males and females. The prevalence of hanging, consuming insecticides, and consuming poison as the leading methods highlights a similarity in the factors influencing suicide decisions among different genders.\n",
    "\n",
    "It is important to note that this analysis is based on the available data and may not capture the complete picture. Further research and analysis may be needed to explore additional factors and understand the underlying reasons behind the choice of suicide methods in different gender groups."
   ]
  },
  {
   "cell_type": "code",
   "execution_count": 59,
   "metadata": {},
   "outputs": [
    {
     "data": {
      "application/javascript": [
       "window.require && require([\"base/js/namespace\"],function(Jupyter){Jupyter.notebook.save_checkpoint()})"
      ],
      "text/plain": [
       "<IPython.core.display.Javascript object>"
      ]
     },
     "metadata": {},
     "output_type": "display_data"
    },
    {
     "name": "stdout",
     "output_type": "stream",
     "text": [
      "[jovian] Updating notebook \"fkzaidi199/suicides-by-profession-in-india\" on https://jovian.com\u001b[0m\n",
      "[jovian] Committed successfully! https://jovian.com/fkzaidi199/suicides-by-profession-in-india\u001b[0m\n"
     ]
    },
    {
     "data": {
      "text/plain": [
       "'https://jovian.com/fkzaidi199/suicides-by-profession-in-india'"
      ]
     },
     "execution_count": 59,
     "metadata": {},
     "output_type": "execute_result"
    }
   ],
   "source": [
    "jovian.commit()"
   ]
  },
  {
   "cell_type": "markdown",
   "metadata": {},
   "source": [
    "## Inferences and Conclusion"
   ]
  },
  {
   "cell_type": "markdown",
   "metadata": {},
   "source": [
    "Through the analysis conducted using the provided data, several insights and conclusions can be drawn regarding suicides across different categories.\n",
    "\n",
    "1. Age Group Analysis: The data shows variations in the number of suicides across different age groups. As individuals progress into higher age groups, the male-to-female ratio of suicides tends to increase, indicating a higher likelihood of males committing suicide compared to females. However, further analysis is needed to understand the underlying factors influencing these trends.\n",
    "\n",
    "2. Gender Analysis: The gender distribution of suicides reveals a higher number of male suicides compared to females. However, it is important to consider other factors and contexts that contribute to these differences.\n",
    "\n",
    "3. Means of Suicide: The major means adopted for suicides, such as hanging, consuming insecticides, and consuming poison, remain consistent across genders. This suggests that there is no significant difference in the methods chosen by males and females.\n",
    "\n",
    "4. Educational Status: Low or no education categories consistently showed a high number of suicides, while individuals with higher education reported a significantly lower number of suicides. This highlights the potential role of education in reducing suicide rates.\n",
    "\n",
    "5. Regional Analysis: Maharashtra, Tamil Nadu, Andhra Pradesh, West Bengal, and Karnataka are identified as states with the highest number of suicides over the given period. These insights could be valuable for targeted interventions and support programs in these regions.\n",
    "\n",
    "6. Trends Over Time: The analysis of suicide counts over the years reveals an increasing trend from 2001 to 2011. This trend underscores the need for continued efforts in mental health awareness, prevention, and support services.\n",
    "\n",
    "In conclusion, the analysis provides valuable insights into the patterns, trends, and factors associated with suicides across various categories. It underscores the importance of addressing mental health issues, promoting education, and implementing targeted interventions to prevent suicides and provide support to those in need. However, it is crucial to conduct further research and analysis to gain a more comprehensive understanding of the underlying causes and develop effective strategies for suicide prevention."
   ]
  },
  {
   "cell_type": "markdown",
   "metadata": {},
   "source": [
    "## References and future work"
   ]
  },
  {
   "cell_type": "markdown",
   "metadata": {},
   "source": [
    "Exploration of the provided dataset opens up several avenues for future projects and research. Here are some ideas for potential projects based on this dataset:\n",
    "\n",
    "1. Time-Series Analysis: Conduct a more detailed time-series analysis to identify specific trends, patterns, and potential factors influencing suicide rates over the years. This could involve analyzing seasonal variations, long-term trends, and the impact of socio-economic factors.\n",
    "\n",
    "2. Correlation Analysis: Explore the correlations between various variables in the dataset, such as education, profession, and causes of suicide. Identify potential relationships and factors that contribute to suicidal tendencies, enabling a better understanding of risk factors and prevention strategies.\n",
    "\n",
    "3. Geospatial Analysis: Utilize geospatial techniques to map and visualize the geographical distribution of suicides. Analyze spatial patterns and identify regions with high suicide rates, helping policymakers target interventions and resources effectively.\n",
    "\n",
    "4. Comparative Analysis: Compare suicide rates and patterns across different demographic factors, such as age, gender, education, and profession. Identify disparities and variations to develop targeted interventions for vulnerable groups.\n",
    "\n",
    "5. Machine Learning Models: Employ machine learning algorithms to develop predictive models for identifying individuals at high risk of suicide. Incorporate various features from the dataset and other relevant data sources to enhance prediction accuracy.\n",
    "\n",
    "Resources that may be helpful for these future projects include:\n",
    "\n",
    "1. World Health Organization (WHO): The WHO provides comprehensive data, reports, and resources on suicide prevention and mental health. Their website contains valuable information for conducting research in this field. (Website: https://www.who.int/mental_health/prevention/suicide/en/)\n",
    "\n",
    "2. National Institute of Mental Health (NIMH): NIMH offers research insights, data, and resources related to mental health and suicide prevention. Their website provides access to publications, studies, and statistical data. (Website: https://www.nimh.nih.gov/)\n",
    "\n",
    "3. Suicide Prevention Resource Center (SPRC): SPRC is a leading organization dedicated to suicide prevention. Their website offers research articles, toolkits, and resources that can support project development and implementation. (Website: https://www.sprc.org/)\n",
    "\n",
    "4. Open Data Platforms: Explore open data platforms such as data.gov and Kaggle, which offer a wide range of datasets related to suicide rates, mental health, and associated factors. These platforms can provide additional datasets for comparative analysis and cross-validation.\n",
    "\n",
    "Remember to ensure ethical considerations when conducting research related to sensitive topics like suicide. Adhere to data privacy guidelines and seek appropriate approvals before utilizing and sharing the data."
   ]
  },
  {
   "cell_type": "code",
   "execution_count": 71,
   "metadata": {},
   "outputs": [
    {
     "data": {
      "application/javascript": [
       "window.require && require([\"base/js/namespace\"],function(Jupyter){Jupyter.notebook.save_checkpoint()})"
      ],
      "text/plain": [
       "<IPython.core.display.Javascript object>"
      ]
     },
     "metadata": {},
     "output_type": "display_data"
    },
    {
     "name": "stdout",
     "output_type": "stream",
     "text": [
      "[jovian] Updating notebook \"fkzaidi199/suicides-by-profession-in-india\" on https://jovian.com\u001b[0m\n",
      "[jovian] Committed successfully! https://jovian.com/fkzaidi199/suicides-by-profession-in-india\u001b[0m\n"
     ]
    },
    {
     "data": {
      "text/plain": [
       "'https://jovian.com/fkzaidi199/suicides-by-profession-in-india'"
      ]
     },
     "execution_count": 71,
     "metadata": {},
     "output_type": "execute_result"
    }
   ],
   "source": [
    "jovian.commit()"
   ]
  },
  {
   "cell_type": "code",
   "execution_count": null,
   "metadata": {},
   "outputs": [],
   "source": []
  }
 ],
 "metadata": {
  "language_info": {
   "codemirror_mode": {
    "name": "ipython",
    "version": 3
   },
   "file_extension": ".py",
   "mimetype": "text/x-python",
   "name": "python",
   "nbconvert_exporter": "python",
   "pygments_lexer": "ipython3",
   "version": "3.9.7"
  }
 },
 "nbformat": 4,
 "nbformat_minor": 2
}